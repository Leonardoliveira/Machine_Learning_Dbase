{
  "nbformat": 4,
  "nbformat_minor": 0,
  "metadata": {
    "colab": {
      "name": "Pandas IO.ipynb",
      "provenance": [],
      "collapsed_sections": [
        "U4b_mvbMDuY5",
        "WfNBiOvKao7X",
        "YbwQkb744hRI",
        "Gls0v25Z79ZP"
      ]
    },
    "kernelspec": {
      "name": "python3",
      "display_name": "Python 3"
    }
  },
  "cells": [
    {
      "cell_type": "markdown",
      "metadata": {
        "id": "U4b_mvbMDuY5",
        "colab_type": "text"
      },
      "source": [
        "# Treinando IO com Pandas"
      ]
    },
    {
      "cell_type": "code",
      "metadata": {
        "id": "w0HwsaztD02s",
        "colab_type": "code",
        "colab": {}
      },
      "source": [
        "#importando a biblioteca\n",
        "import pandas as pd"
      ],
      "execution_count": 1,
      "outputs": []
    },
    {
      "cell_type": "code",
      "metadata": {
        "id": "hIBIo6NOEQuV",
        "colab_type": "code",
        "colab": {}
      },
      "source": [
        "#Conectando o pandas com JSon\n",
        "nome_M = pd.read_json(\"https://servicodados.ibge.gov.br/api/v1/censos/nomes/ranking?qtd=200&sexo=m\")\n",
        "nome_F = pd.read_json(\"https://servicodados.ibge.gov.br/api/v1/censos/nomes/ranking?qtd=200&sexo=f\")"
      ],
      "execution_count": 2,
      "outputs": []
    },
    {
      "cell_type": "code",
      "metadata": {
        "id": "tzYRdf0TEfz8",
        "colab_type": "code",
        "colab": {
          "base_uri": "https://localhost:8080/",
          "height": 419
        },
        "outputId": "c8280051-b2ff-41c7-ab05-4458d20dd18b"
      },
      "source": [
        "#visualizando o DF\n",
        "nome_F"
      ],
      "execution_count": 3,
      "outputs": [
        {
          "output_type": "execute_result",
          "data": {
            "text/html": [
              "<div>\n",
              "<style scoped>\n",
              "    .dataframe tbody tr th:only-of-type {\n",
              "        vertical-align: middle;\n",
              "    }\n",
              "\n",
              "    .dataframe tbody tr th {\n",
              "        vertical-align: top;\n",
              "    }\n",
              "\n",
              "    .dataframe thead th {\n",
              "        text-align: right;\n",
              "    }\n",
              "</style>\n",
              "<table border=\"1\" class=\"dataframe\">\n",
              "  <thead>\n",
              "    <tr style=\"text-align: right;\">\n",
              "      <th></th>\n",
              "      <th>nome</th>\n",
              "      <th>regiao</th>\n",
              "      <th>freq</th>\n",
              "      <th>rank</th>\n",
              "      <th>sexo</th>\n",
              "    </tr>\n",
              "  </thead>\n",
              "  <tbody>\n",
              "    <tr>\n",
              "      <th>0</th>\n",
              "      <td>MARIA</td>\n",
              "      <td>0</td>\n",
              "      <td>11694738</td>\n",
              "      <td>1</td>\n",
              "      <td>F</td>\n",
              "    </tr>\n",
              "    <tr>\n",
              "      <th>1</th>\n",
              "      <td>ANA</td>\n",
              "      <td>0</td>\n",
              "      <td>3079729</td>\n",
              "      <td>2</td>\n",
              "      <td>F</td>\n",
              "    </tr>\n",
              "    <tr>\n",
              "      <th>2</th>\n",
              "      <td>FRANCISCA</td>\n",
              "      <td>0</td>\n",
              "      <td>721637</td>\n",
              "      <td>3</td>\n",
              "      <td>F</td>\n",
              "    </tr>\n",
              "    <tr>\n",
              "      <th>3</th>\n",
              "      <td>ANTONIA</td>\n",
              "      <td>0</td>\n",
              "      <td>588783</td>\n",
              "      <td>4</td>\n",
              "      <td>F</td>\n",
              "    </tr>\n",
              "    <tr>\n",
              "      <th>4</th>\n",
              "      <td>ADRIANA</td>\n",
              "      <td>0</td>\n",
              "      <td>565621</td>\n",
              "      <td>5</td>\n",
              "      <td>F</td>\n",
              "    </tr>\n",
              "    <tr>\n",
              "      <th>...</th>\n",
              "      <td>...</td>\n",
              "      <td>...</td>\n",
              "      <td>...</td>\n",
              "      <td>...</td>\n",
              "      <td>...</td>\n",
              "    </tr>\n",
              "    <tr>\n",
              "      <th>195</th>\n",
              "      <td>ROSANE</td>\n",
              "      <td>0</td>\n",
              "      <td>82203</td>\n",
              "      <td>196</td>\n",
              "      <td>F</td>\n",
              "    </tr>\n",
              "    <tr>\n",
              "      <th>196</th>\n",
              "      <td>IVONETE</td>\n",
              "      <td>0</td>\n",
              "      <td>81878</td>\n",
              "      <td>197</td>\n",
              "      <td>F</td>\n",
              "    </tr>\n",
              "    <tr>\n",
              "      <th>197</th>\n",
              "      <td>LUCIANE</td>\n",
              "      <td>0</td>\n",
              "      <td>81230</td>\n",
              "      <td>198</td>\n",
              "      <td>F</td>\n",
              "    </tr>\n",
              "    <tr>\n",
              "      <th>198</th>\n",
              "      <td>ISADORA</td>\n",
              "      <td>0</td>\n",
              "      <td>81100</td>\n",
              "      <td>199</td>\n",
              "      <td>F</td>\n",
              "    </tr>\n",
              "    <tr>\n",
              "      <th>199</th>\n",
              "      <td>NILZA</td>\n",
              "      <td>0</td>\n",
              "      <td>80128</td>\n",
              "      <td>200</td>\n",
              "      <td>F</td>\n",
              "    </tr>\n",
              "  </tbody>\n",
              "</table>\n",
              "<p>200 rows × 5 columns</p>\n",
              "</div>"
            ],
            "text/plain": [
              "          nome  regiao      freq  rank sexo\n",
              "0        MARIA       0  11694738     1    F\n",
              "1          ANA       0   3079729     2    F\n",
              "2    FRANCISCA       0    721637     3    F\n",
              "3      ANTONIA       0    588783     4    F\n",
              "4      ADRIANA       0    565621     5    F\n",
              "..         ...     ...       ...   ...  ...\n",
              "195     ROSANE       0     82203   196    F\n",
              "196    IVONETE       0     81878   197    F\n",
              "197    LUCIANE       0     81230   198    F\n",
              "198    ISADORA       0     81100   199    F\n",
              "199      NILZA       0     80128   200    F\n",
              "\n",
              "[200 rows x 5 columns]"
            ]
          },
          "metadata": {
            "tags": []
          },
          "execution_count": 3
        }
      ]
    },
    {
      "cell_type": "code",
      "metadata": {
        "id": "3Pcb7LhMXVU8",
        "colab_type": "code",
        "colab": {
          "base_uri": "https://localhost:8080/",
          "height": 419
        },
        "outputId": "ca03d70a-0f9b-4b26-c008-876e8f123412"
      },
      "source": [
        "nome_M"
      ],
      "execution_count": 4,
      "outputs": [
        {
          "output_type": "execute_result",
          "data": {
            "text/html": [
              "<div>\n",
              "<style scoped>\n",
              "    .dataframe tbody tr th:only-of-type {\n",
              "        vertical-align: middle;\n",
              "    }\n",
              "\n",
              "    .dataframe tbody tr th {\n",
              "        vertical-align: top;\n",
              "    }\n",
              "\n",
              "    .dataframe thead th {\n",
              "        text-align: right;\n",
              "    }\n",
              "</style>\n",
              "<table border=\"1\" class=\"dataframe\">\n",
              "  <thead>\n",
              "    <tr style=\"text-align: right;\">\n",
              "      <th></th>\n",
              "      <th>nome</th>\n",
              "      <th>regiao</th>\n",
              "      <th>freq</th>\n",
              "      <th>rank</th>\n",
              "      <th>sexo</th>\n",
              "    </tr>\n",
              "  </thead>\n",
              "  <tbody>\n",
              "    <tr>\n",
              "      <th>0</th>\n",
              "      <td>JOSE</td>\n",
              "      <td>0</td>\n",
              "      <td>5732508</td>\n",
              "      <td>1</td>\n",
              "      <td>M</td>\n",
              "    </tr>\n",
              "    <tr>\n",
              "      <th>1</th>\n",
              "      <td>JOAO</td>\n",
              "      <td>0</td>\n",
              "      <td>2971935</td>\n",
              "      <td>2</td>\n",
              "      <td>M</td>\n",
              "    </tr>\n",
              "    <tr>\n",
              "      <th>2</th>\n",
              "      <td>ANTONIO</td>\n",
              "      <td>0</td>\n",
              "      <td>2567494</td>\n",
              "      <td>3</td>\n",
              "      <td>M</td>\n",
              "    </tr>\n",
              "    <tr>\n",
              "      <th>3</th>\n",
              "      <td>FRANCISCO</td>\n",
              "      <td>0</td>\n",
              "      <td>1765197</td>\n",
              "      <td>4</td>\n",
              "      <td>M</td>\n",
              "    </tr>\n",
              "    <tr>\n",
              "      <th>4</th>\n",
              "      <td>CARLOS</td>\n",
              "      <td>0</td>\n",
              "      <td>1483121</td>\n",
              "      <td>5</td>\n",
              "      <td>M</td>\n",
              "    </tr>\n",
              "    <tr>\n",
              "      <th>...</th>\n",
              "      <td>...</td>\n",
              "      <td>...</td>\n",
              "      <td>...</td>\n",
              "      <td>...</td>\n",
              "      <td>...</td>\n",
              "    </tr>\n",
              "    <tr>\n",
              "      <th>195</th>\n",
              "      <td>WALTER</td>\n",
              "      <td>0</td>\n",
              "      <td>67207</td>\n",
              "      <td>196</td>\n",
              "      <td>M</td>\n",
              "    </tr>\n",
              "    <tr>\n",
              "      <th>196</th>\n",
              "      <td>ARLINDO</td>\n",
              "      <td>0</td>\n",
              "      <td>66669</td>\n",
              "      <td>197</td>\n",
              "      <td>M</td>\n",
              "    </tr>\n",
              "    <tr>\n",
              "      <th>197</th>\n",
              "      <td>MICHAEL</td>\n",
              "      <td>0</td>\n",
              "      <td>65736</td>\n",
              "      <td>198</td>\n",
              "      <td>M</td>\n",
              "    </tr>\n",
              "    <tr>\n",
              "      <th>198</th>\n",
              "      <td>ALVARO</td>\n",
              "      <td>0</td>\n",
              "      <td>65444</td>\n",
              "      <td>199</td>\n",
              "      <td>M</td>\n",
              "    </tr>\n",
              "    <tr>\n",
              "      <th>199</th>\n",
              "      <td>GEOVANE</td>\n",
              "      <td>0</td>\n",
              "      <td>65435</td>\n",
              "      <td>200</td>\n",
              "      <td>M</td>\n",
              "    </tr>\n",
              "  </tbody>\n",
              "</table>\n",
              "<p>200 rows × 5 columns</p>\n",
              "</div>"
            ],
            "text/plain": [
              "          nome  regiao     freq  rank sexo\n",
              "0         JOSE       0  5732508     1    M\n",
              "1         JOAO       0  2971935     2    M\n",
              "2      ANTONIO       0  2567494     3    M\n",
              "3    FRANCISCO       0  1765197     4    M\n",
              "4       CARLOS       0  1483121     5    M\n",
              "..         ...     ...      ...   ...  ...\n",
              "195     WALTER       0    67207   196    M\n",
              "196    ARLINDO       0    66669   197    M\n",
              "197    MICHAEL       0    65736   198    M\n",
              "198     ALVARO       0    65444   199    M\n",
              "199    GEOVANE       0    65435   200    M\n",
              "\n",
              "[200 rows x 5 columns]"
            ]
          },
          "metadata": {
            "tags": []
          },
          "execution_count": 4
        }
      ]
    },
    {
      "cell_type": "code",
      "metadata": {
        "id": "7do_wCZcXXgn",
        "colab_type": "code",
        "colab": {
          "base_uri": "https://localhost:8080/",
          "height": 34
        },
        "outputId": "1f663271-1d5d-4efa-9b4d-569952454ecd"
      },
      "source": [
        "#Somando a qtd de alunos\n",
        "print(\"A quantidade de alunos:\" , len(nome_F) + len(nome_M), end='.\\n')"
      ],
      "execution_count": 5,
      "outputs": [
        {
          "output_type": "stream",
          "text": [
            "A quantidade de alunos: 400.\n"
          ],
          "name": "stdout"
        }
      ]
    },
    {
      "cell_type": "code",
      "metadata": {
        "id": "dRuesa4jYP6B",
        "colab_type": "code",
        "colab": {}
      },
      "source": [
        "#Fazendo a junção dos dois frame\n",
        "frames = [nome_F, nome_M]"
      ],
      "execution_count": 6,
      "outputs": []
    },
    {
      "cell_type": "code",
      "metadata": {
        "id": "CZyBCjJ2Zbuy",
        "colab_type": "code",
        "colab": {
          "base_uri": "https://localhost:8080/",
          "height": 476
        },
        "outputId": "be1cebdd-e01e-4550-f349-87167798c417"
      },
      "source": [
        "frames"
      ],
      "execution_count": 7,
      "outputs": [
        {
          "output_type": "execute_result",
          "data": {
            "text/plain": [
              "[          nome  regiao      freq  rank sexo\n",
              " 0        MARIA       0  11694738     1    F\n",
              " 1          ANA       0   3079729     2    F\n",
              " 2    FRANCISCA       0    721637     3    F\n",
              " 3      ANTONIA       0    588783     4    F\n",
              " 4      ADRIANA       0    565621     5    F\n",
              " ..         ...     ...       ...   ...  ...\n",
              " 195     ROSANE       0     82203   196    F\n",
              " 196    IVONETE       0     81878   197    F\n",
              " 197    LUCIANE       0     81230   198    F\n",
              " 198    ISADORA       0     81100   199    F\n",
              " 199      NILZA       0     80128   200    F\n",
              " \n",
              " [200 rows x 5 columns],           nome  regiao     freq  rank sexo\n",
              " 0         JOSE       0  5732508     1    M\n",
              " 1         JOAO       0  2971935     2    M\n",
              " 2      ANTONIO       0  2567494     3    M\n",
              " 3    FRANCISCO       0  1765197     4    M\n",
              " 4       CARLOS       0  1483121     5    M\n",
              " ..         ...     ...      ...   ...  ...\n",
              " 195     WALTER       0    67207   196    M\n",
              " 196    ARLINDO       0    66669   197    M\n",
              " 197    MICHAEL       0    65736   198    M\n",
              " 198     ALVARO       0    65444   199    M\n",
              " 199    GEOVANE       0    65435   200    M\n",
              " \n",
              " [200 rows x 5 columns]]"
            ]
          },
          "metadata": {
            "tags": []
          },
          "execution_count": 7
        }
      ]
    },
    {
      "cell_type": "code",
      "metadata": {
        "id": "RANrlSgEZIij",
        "colab_type": "code",
        "colab": {}
      },
      "source": [
        "#usando a função do pandas para concatenar\n",
        "nomes = pd.concat(frames) ['nome'].to_frame()"
      ],
      "execution_count": 8,
      "outputs": []
    },
    {
      "cell_type": "code",
      "metadata": {
        "id": "rSDN7pkpZsvQ",
        "colab_type": "code",
        "colab": {
          "base_uri": "https://localhost:8080/",
          "height": 204
        },
        "outputId": "861071d0-e934-4165-a325-6288a4bb426d"
      },
      "source": [
        "#pegando 5 nomes aleatórios\n",
        "nomes.sample(5)"
      ],
      "execution_count": 9,
      "outputs": [
        {
          "output_type": "execute_result",
          "data": {
            "text/html": [
              "<div>\n",
              "<style scoped>\n",
              "    .dataframe tbody tr th:only-of-type {\n",
              "        vertical-align: middle;\n",
              "    }\n",
              "\n",
              "    .dataframe tbody tr th {\n",
              "        vertical-align: top;\n",
              "    }\n",
              "\n",
              "    .dataframe thead th {\n",
              "        text-align: right;\n",
              "    }\n",
              "</style>\n",
              "<table border=\"1\" class=\"dataframe\">\n",
              "  <thead>\n",
              "    <tr style=\"text-align: right;\">\n",
              "      <th></th>\n",
              "      <th>nome</th>\n",
              "    </tr>\n",
              "  </thead>\n",
              "  <tbody>\n",
              "    <tr>\n",
              "      <th>48</th>\n",
              "      <td>RENATO</td>\n",
              "    </tr>\n",
              "    <tr>\n",
              "      <th>88</th>\n",
              "      <td>GILMAR</td>\n",
              "    </tr>\n",
              "    <tr>\n",
              "      <th>6</th>\n",
              "      <td>MARCIA</td>\n",
              "    </tr>\n",
              "    <tr>\n",
              "      <th>19</th>\n",
              "      <td>MARIANA</td>\n",
              "    </tr>\n",
              "    <tr>\n",
              "      <th>146</th>\n",
              "      <td>WILIAN</td>\n",
              "    </tr>\n",
              "  </tbody>\n",
              "</table>\n",
              "</div>"
            ],
            "text/plain": [
              "        nome\n",
              "48    RENATO\n",
              "88    GILMAR\n",
              "6     MARCIA\n",
              "19   MARIANA\n",
              "146   WILIAN"
            ]
          },
          "metadata": {
            "tags": []
          },
          "execution_count": 9
        }
      ]
    },
    {
      "cell_type": "markdown",
      "metadata": {
        "id": "WfNBiOvKao7X",
        "colab_type": "text"
      },
      "source": [
        "# Inserindo os ID's dos alunos"
      ]
    },
    {
      "cell_type": "code",
      "metadata": {
        "id": "Cj96buHjaAOH",
        "colab_type": "code",
        "colab": {}
      },
      "source": [
        "#importando a biblioteca numpy para gerar os ids\n",
        "import numpy as np\n",
        "#gerando um numero aleatório\n",
        "np.random.seed(123)"
      ],
      "execution_count": 10,
      "outputs": []
    },
    {
      "cell_type": "code",
      "metadata": {
        "id": "kSirLdCUbQpl",
        "colab_type": "code",
        "colab": {
          "base_uri": "https://localhost:8080/",
          "height": 0
        },
        "outputId": "dab4e340-51a1-49fd-bbef-5794ee5ddbac"
      },
      "source": [
        "#Armazenando o total de alunos \n",
        "total_alunos = len(nomes)\n",
        "total_alunos"
      ],
      "execution_count": 11,
      "outputs": [
        {
          "output_type": "execute_result",
          "data": {
            "text/plain": [
              "400"
            ]
          },
          "metadata": {
            "tags": []
          },
          "execution_count": 11
        }
      ]
    },
    {
      "cell_type": "code",
      "metadata": {
        "id": "dp-xHRF8bfV0",
        "colab_type": "code",
        "colab": {}
      },
      "source": [
        "#criando uma nova coluna para os id's, gerando um numero aletório com a função 'permutation'\n",
        "nomes['id_aluno'] = np.random.permutation(total_alunos) + 1"
      ],
      "execution_count": 12,
      "outputs": []
    },
    {
      "cell_type": "code",
      "metadata": {
        "id": "rFmOctxNcKCj",
        "colab_type": "code",
        "colab": {
          "base_uri": "https://localhost:8080/",
          "height": 0
        },
        "outputId": "ec2d0051-c3a6-4b9e-fcb4-bda3d5f4ee15"
      },
      "source": [
        "nomes.sample(3)"
      ],
      "execution_count": 13,
      "outputs": [
        {
          "output_type": "execute_result",
          "data": {
            "text/html": [
              "<div>\n",
              "<style scoped>\n",
              "    .dataframe tbody tr th:only-of-type {\n",
              "        vertical-align: middle;\n",
              "    }\n",
              "\n",
              "    .dataframe tbody tr th {\n",
              "        vertical-align: top;\n",
              "    }\n",
              "\n",
              "    .dataframe thead th {\n",
              "        text-align: right;\n",
              "    }\n",
              "</style>\n",
              "<table border=\"1\" class=\"dataframe\">\n",
              "  <thead>\n",
              "    <tr style=\"text-align: right;\">\n",
              "      <th></th>\n",
              "      <th>nome</th>\n",
              "      <th>id_aluno</th>\n",
              "    </tr>\n",
              "  </thead>\n",
              "  <tbody>\n",
              "    <tr>\n",
              "      <th>188</th>\n",
              "      <td>POLIANA</td>\n",
              "      <td>369</td>\n",
              "    </tr>\n",
              "    <tr>\n",
              "      <th>57</th>\n",
              "      <td>DAIANE</td>\n",
              "      <td>303</td>\n",
              "    </tr>\n",
              "    <tr>\n",
              "      <th>3</th>\n",
              "      <td>FRANCISCO</td>\n",
              "      <td>382</td>\n",
              "    </tr>\n",
              "  </tbody>\n",
              "</table>\n",
              "</div>"
            ],
            "text/plain": [
              "          nome  id_aluno\n",
              "188    POLIANA       369\n",
              "57      DAIANE       303\n",
              "3    FRANCISCO       382"
            ]
          },
          "metadata": {
            "tags": []
          },
          "execution_count": 13
        }
      ]
    },
    {
      "cell_type": "code",
      "metadata": {
        "id": "fPpdihNbcQBT",
        "colab_type": "code",
        "colab": {}
      },
      "source": [
        "#objetivo\n",
        "#criar dominios de e-mails para a escola enviar informações para os alunos\n",
        "#criando uma lista com os dominios\n",
        "dominios = ['@dominiodoemail.com.br', '@servicosdoemail.com']\n",
        "#criando mais duas colunas no dataframes, uma para dominio outra para o email\n",
        "nomes['dominio'] = np.random.choice(dominios, total_alunos)"
      ],
      "execution_count": 14,
      "outputs": []
    },
    {
      "cell_type": "code",
      "metadata": {
        "id": "iOuGtCkfdufF",
        "colab_type": "code",
        "colab": {
          "base_uri": "https://localhost:8080/",
          "height": 0
        },
        "outputId": "4cab8fe0-3e95-453f-9e96-c8093e16d3fa"
      },
      "source": [
        "nomes.sample(5)"
      ],
      "execution_count": 15,
      "outputs": [
        {
          "output_type": "execute_result",
          "data": {
            "text/html": [
              "<div>\n",
              "<style scoped>\n",
              "    .dataframe tbody tr th:only-of-type {\n",
              "        vertical-align: middle;\n",
              "    }\n",
              "\n",
              "    .dataframe tbody tr th {\n",
              "        vertical-align: top;\n",
              "    }\n",
              "\n",
              "    .dataframe thead th {\n",
              "        text-align: right;\n",
              "    }\n",
              "</style>\n",
              "<table border=\"1\" class=\"dataframe\">\n",
              "  <thead>\n",
              "    <tr style=\"text-align: right;\">\n",
              "      <th></th>\n",
              "      <th>nome</th>\n",
              "      <th>id_aluno</th>\n",
              "      <th>dominio</th>\n",
              "    </tr>\n",
              "  </thead>\n",
              "  <tbody>\n",
              "    <tr>\n",
              "      <th>84</th>\n",
              "      <td>SEVERINO</td>\n",
              "      <td>78</td>\n",
              "      <td>@dominiodoemail.com.br</td>\n",
              "    </tr>\n",
              "    <tr>\n",
              "      <th>0</th>\n",
              "      <td>JOSE</td>\n",
              "      <td>331</td>\n",
              "      <td>@servicosdoemail.com</td>\n",
              "    </tr>\n",
              "    <tr>\n",
              "      <th>179</th>\n",
              "      <td>IAGO</td>\n",
              "      <td>340</td>\n",
              "      <td>@dominiodoemail.com.br</td>\n",
              "    </tr>\n",
              "    <tr>\n",
              "      <th>10</th>\n",
              "      <td>SANDRA</td>\n",
              "      <td>174</td>\n",
              "      <td>@dominiodoemail.com.br</td>\n",
              "    </tr>\n",
              "    <tr>\n",
              "      <th>171</th>\n",
              "      <td>TERESINHA</td>\n",
              "      <td>45</td>\n",
              "      <td>@dominiodoemail.com.br</td>\n",
              "    </tr>\n",
              "  </tbody>\n",
              "</table>\n",
              "</div>"
            ],
            "text/plain": [
              "          nome  id_aluno                 dominio\n",
              "84    SEVERINO        78  @dominiodoemail.com.br\n",
              "0         JOSE       331    @servicosdoemail.com\n",
              "179       IAGO       340  @dominiodoemail.com.br\n",
              "10      SANDRA       174  @dominiodoemail.com.br\n",
              "171  TERESINHA        45  @dominiodoemail.com.br"
            ]
          },
          "metadata": {
            "tags": []
          },
          "execution_count": 15
        }
      ]
    },
    {
      "cell_type": "code",
      "metadata": {
        "id": "Pqh9r-YZd4sx",
        "colab_type": "code",
        "colab": {}
      },
      "source": [
        "#criar uma coluna para emails, fazendo a concatenação dos nomes com dominios\n",
        "nomes['email'] = nomes.nome.str.cat(nomes.dominio).str.lower()"
      ],
      "execution_count": 16,
      "outputs": []
    },
    {
      "cell_type": "code",
      "metadata": {
        "id": "h2BUSuyuflCZ",
        "colab_type": "code",
        "colab": {
          "base_uri": "https://localhost:8080/",
          "height": 0
        },
        "outputId": "6b36c053-a471-4103-9733-bd004f744c90"
      },
      "source": [
        "nomes.sample(5)"
      ],
      "execution_count": 17,
      "outputs": [
        {
          "output_type": "execute_result",
          "data": {
            "text/html": [
              "<div>\n",
              "<style scoped>\n",
              "    .dataframe tbody tr th:only-of-type {\n",
              "        vertical-align: middle;\n",
              "    }\n",
              "\n",
              "    .dataframe tbody tr th {\n",
              "        vertical-align: top;\n",
              "    }\n",
              "\n",
              "    .dataframe thead th {\n",
              "        text-align: right;\n",
              "    }\n",
              "</style>\n",
              "<table border=\"1\" class=\"dataframe\">\n",
              "  <thead>\n",
              "    <tr style=\"text-align: right;\">\n",
              "      <th></th>\n",
              "      <th>nome</th>\n",
              "      <th>id_aluno</th>\n",
              "      <th>dominio</th>\n",
              "      <th>email</th>\n",
              "    </tr>\n",
              "  </thead>\n",
              "  <tbody>\n",
              "    <tr>\n",
              "      <th>114</th>\n",
              "      <td>ARTHUR</td>\n",
              "      <td>320</td>\n",
              "      <td>@dominiodoemail.com.br</td>\n",
              "      <td>arthur@dominiodoemail.com.br</td>\n",
              "    </tr>\n",
              "    <tr>\n",
              "      <th>57</th>\n",
              "      <td>DAIANE</td>\n",
              "      <td>303</td>\n",
              "      <td>@servicosdoemail.com</td>\n",
              "      <td>daiane@servicosdoemail.com</td>\n",
              "    </tr>\n",
              "    <tr>\n",
              "      <th>85</th>\n",
              "      <td>HELENA</td>\n",
              "      <td>221</td>\n",
              "      <td>@dominiodoemail.com.br</td>\n",
              "      <td>helena@dominiodoemail.com.br</td>\n",
              "    </tr>\n",
              "    <tr>\n",
              "      <th>183</th>\n",
              "      <td>IRACI</td>\n",
              "      <td>8</td>\n",
              "      <td>@dominiodoemail.com.br</td>\n",
              "      <td>iraci@dominiodoemail.com.br</td>\n",
              "    </tr>\n",
              "    <tr>\n",
              "      <th>189</th>\n",
              "      <td>DALVA</td>\n",
              "      <td>137</td>\n",
              "      <td>@dominiodoemail.com.br</td>\n",
              "      <td>dalva@dominiodoemail.com.br</td>\n",
              "    </tr>\n",
              "  </tbody>\n",
              "</table>\n",
              "</div>"
            ],
            "text/plain": [
              "       nome  id_aluno                 dominio                         email\n",
              "114  ARTHUR       320  @dominiodoemail.com.br  arthur@dominiodoemail.com.br\n",
              "57   DAIANE       303    @servicosdoemail.com    daiane@servicosdoemail.com\n",
              "85   HELENA       221  @dominiodoemail.com.br  helena@dominiodoemail.com.br\n",
              "183   IRACI         8  @dominiodoemail.com.br   iraci@dominiodoemail.com.br\n",
              "189   DALVA       137  @dominiodoemail.com.br   dalva@dominiodoemail.com.br"
            ]
          },
          "metadata": {
            "tags": []
          },
          "execution_count": 17
        }
      ]
    },
    {
      "cell_type": "markdown",
      "metadata": {
        "id": "YbwQkb744hRI",
        "colab_type": "text"
      },
      "source": [
        "# Criando Cursos"
      ]
    },
    {
      "cell_type": "code",
      "metadata": {
        "id": "pyfW-JBjfuR-",
        "colab_type": "code",
        "colab": {
          "base_uri": "https://localhost:8080/",
          "height": 85
        },
        "outputId": "07d6b7c1-c951-47d5-87e1-952b651557c3"
      },
      "source": [
        "#instalando pacotes para realizar importação em html\n",
        "!pip3 install html5lib\n",
        "!pip3 install lxml"
      ],
      "execution_count": 18,
      "outputs": [
        {
          "output_type": "stream",
          "text": [
            "Requirement already satisfied: html5lib in /usr/local/lib/python3.6/dist-packages (1.0.1)\n",
            "Requirement already satisfied: six>=1.9 in /usr/local/lib/python3.6/dist-packages (from html5lib) (1.15.0)\n",
            "Requirement already satisfied: webencodings in /usr/local/lib/python3.6/dist-packages (from html5lib) (0.5.1)\n",
            "Requirement already satisfied: lxml in /usr/local/lib/python3.6/dist-packages (4.2.6)\n"
          ],
          "name": "stdout"
        }
      ]
    },
    {
      "cell_type": "code",
      "metadata": {
        "id": "-iW7uwXH5Ws_",
        "colab_type": "code",
        "colab": {}
      },
      "source": [
        "#importando a biblioteca\n",
        "import html5lib"
      ],
      "execution_count": 19,
      "outputs": []
    },
    {
      "cell_type": "code",
      "metadata": {
        "id": "F0PF9EGc5gru",
        "colab_type": "code",
        "colab": {
          "base_uri": "https://localhost:8080/",
          "height": 374
        },
        "outputId": "c1ba195c-c735-440a-fa9f-bb4a2a81b00d"
      },
      "source": [
        "#configurando fontes\n",
        "url = 'http://tabela-cursos.herokuapp.com/index.html#'\n",
        "#atribuido valores ao curso\n",
        "cursos = pd.read_html(url)\n",
        "cursos"
      ],
      "execution_count": 20,
      "outputs": [
        {
          "output_type": "execute_result",
          "data": {
            "text/plain": [
              "[                          Nome do curso\n",
              " 0                 Lógica de programação\n",
              " 1                         Java para Web\n",
              " 2                           C# para Web\n",
              " 3                         Ruby on Rails\n",
              " 4                      Cursos de Python\n",
              " 5                         PHP com MySql\n",
              " 6                         .NET para web\n",
              " 7            Novas integrações com Java\n",
              " 8                          TDD com Java\n",
              " 9                   Código limpo com C#\n",
              " 10  Preparatório para certificação Java\n",
              " 11                      Hardware básico\n",
              " 12                Persistência com .NET\n",
              " 13                  Desenvolvendo jogos\n",
              " 14                     Análise de dados\n",
              " 15                   Estatística básica\n",
              " 16                  Internet das coisas\n",
              " 17                Programação funcional\n",
              " 18                Boas práticas em Java\n",
              " 19          Orientação objetos com Java]"
            ]
          },
          "metadata": {
            "tags": []
          },
          "execution_count": 20
        }
      ]
    },
    {
      "cell_type": "code",
      "metadata": {
        "id": "xqwhWi4E5vmU",
        "colab_type": "code",
        "colab": {
          "base_uri": "https://localhost:8080/",
          "height": 34
        },
        "outputId": "8527c11f-e760-4e84-bc0e-ea616e8d4712"
      },
      "source": [
        "type(cursos)"
      ],
      "execution_count": 21,
      "outputs": [
        {
          "output_type": "execute_result",
          "data": {
            "text/plain": [
              "list"
            ]
          },
          "metadata": {
            "tags": []
          },
          "execution_count": 21
        }
      ]
    },
    {
      "cell_type": "code",
      "metadata": {
        "id": "5ni4Q_1D7Dr-",
        "colab_type": "code",
        "colab": {}
      },
      "source": [
        "#transformando em dataframe\n",
        "cursos = cursos[0]"
      ],
      "execution_count": 22,
      "outputs": []
    },
    {
      "cell_type": "code",
      "metadata": {
        "id": "mnDdAkLz7JOC",
        "colab_type": "code",
        "colab": {
          "base_uri": "https://localhost:8080/",
          "height": 34
        },
        "outputId": "fdbeae05-de47-4228-cdfd-ece375195625"
      },
      "source": [
        "type(cursos)"
      ],
      "execution_count": 23,
      "outputs": [
        {
          "output_type": "execute_result",
          "data": {
            "text/plain": [
              "pandas.core.frame.DataFrame"
            ]
          },
          "metadata": {
            "tags": []
          },
          "execution_count": 23
        }
      ]
    },
    {
      "cell_type": "code",
      "metadata": {
        "id": "5mwoid6G7OzC",
        "colab_type": "code",
        "colab": {
          "base_uri": "https://localhost:8080/",
          "height": 204
        },
        "outputId": "07c24c30-b992-456c-b16c-153763d7259c"
      },
      "source": [
        "cursos.head()"
      ],
      "execution_count": 24,
      "outputs": [
        {
          "output_type": "execute_result",
          "data": {
            "text/html": [
              "<div>\n",
              "<style scoped>\n",
              "    .dataframe tbody tr th:only-of-type {\n",
              "        vertical-align: middle;\n",
              "    }\n",
              "\n",
              "    .dataframe tbody tr th {\n",
              "        vertical-align: top;\n",
              "    }\n",
              "\n",
              "    .dataframe thead th {\n",
              "        text-align: right;\n",
              "    }\n",
              "</style>\n",
              "<table border=\"1\" class=\"dataframe\">\n",
              "  <thead>\n",
              "    <tr style=\"text-align: right;\">\n",
              "      <th></th>\n",
              "      <th>Nome do curso</th>\n",
              "    </tr>\n",
              "  </thead>\n",
              "  <tbody>\n",
              "    <tr>\n",
              "      <th>0</th>\n",
              "      <td>Lógica de programação</td>\n",
              "    </tr>\n",
              "    <tr>\n",
              "      <th>1</th>\n",
              "      <td>Java para Web</td>\n",
              "    </tr>\n",
              "    <tr>\n",
              "      <th>2</th>\n",
              "      <td>C# para Web</td>\n",
              "    </tr>\n",
              "    <tr>\n",
              "      <th>3</th>\n",
              "      <td>Ruby on Rails</td>\n",
              "    </tr>\n",
              "    <tr>\n",
              "      <th>4</th>\n",
              "      <td>Cursos de Python</td>\n",
              "    </tr>\n",
              "  </tbody>\n",
              "</table>\n",
              "</div>"
            ],
            "text/plain": [
              "           Nome do curso\n",
              "0  Lógica de programação\n",
              "1          Java para Web\n",
              "2            C# para Web\n",
              "3          Ruby on Rails\n",
              "4       Cursos de Python"
            ]
          },
          "metadata": {
            "tags": []
          },
          "execution_count": 24
        }
      ]
    },
    {
      "cell_type": "markdown",
      "metadata": {
        "id": "Gls0v25Z79ZP",
        "colab_type": "text"
      },
      "source": [
        "# Alterando o Index de cursos"
      ]
    },
    {
      "cell_type": "code",
      "metadata": {
        "id": "QBh7-qkF7YxN",
        "colab_type": "code",
        "colab": {}
      },
      "source": [
        "#renomeando as colunas\n",
        "cursos = cursos.rename(columns={'Nome do curso' : 'nome_do_curso'})"
      ],
      "execution_count": 25,
      "outputs": []
    },
    {
      "cell_type": "code",
      "metadata": {
        "id": "RSmpg2qj8fMU",
        "colab_type": "code",
        "colab": {
          "base_uri": "https://localhost:8080/",
          "height": 204
        },
        "outputId": "110f12f8-6ac8-4779-e3c7-0d72c768aa31"
      },
      "source": [
        "cursos.head()"
      ],
      "execution_count": 26,
      "outputs": [
        {
          "output_type": "execute_result",
          "data": {
            "text/html": [
              "<div>\n",
              "<style scoped>\n",
              "    .dataframe tbody tr th:only-of-type {\n",
              "        vertical-align: middle;\n",
              "    }\n",
              "\n",
              "    .dataframe tbody tr th {\n",
              "        vertical-align: top;\n",
              "    }\n",
              "\n",
              "    .dataframe thead th {\n",
              "        text-align: right;\n",
              "    }\n",
              "</style>\n",
              "<table border=\"1\" class=\"dataframe\">\n",
              "  <thead>\n",
              "    <tr style=\"text-align: right;\">\n",
              "      <th></th>\n",
              "      <th>nome_do_curso</th>\n",
              "    </tr>\n",
              "  </thead>\n",
              "  <tbody>\n",
              "    <tr>\n",
              "      <th>0</th>\n",
              "      <td>Lógica de programação</td>\n",
              "    </tr>\n",
              "    <tr>\n",
              "      <th>1</th>\n",
              "      <td>Java para Web</td>\n",
              "    </tr>\n",
              "    <tr>\n",
              "      <th>2</th>\n",
              "      <td>C# para Web</td>\n",
              "    </tr>\n",
              "    <tr>\n",
              "      <th>3</th>\n",
              "      <td>Ruby on Rails</td>\n",
              "    </tr>\n",
              "    <tr>\n",
              "      <th>4</th>\n",
              "      <td>Cursos de Python</td>\n",
              "    </tr>\n",
              "  </tbody>\n",
              "</table>\n",
              "</div>"
            ],
            "text/plain": [
              "           nome_do_curso\n",
              "0  Lógica de programação\n",
              "1          Java para Web\n",
              "2            C# para Web\n",
              "3          Ruby on Rails\n",
              "4       Cursos de Python"
            ]
          },
          "metadata": {
            "tags": []
          },
          "execution_count": 26
        }
      ]
    },
    {
      "cell_type": "code",
      "metadata": {
        "id": "6mEWbYM78mvY",
        "colab_type": "code",
        "colab": {}
      },
      "source": [
        "#criando uma coluna do ID cursos\n",
        "cursos['id'] = cursos.index + 1"
      ],
      "execution_count": 27,
      "outputs": []
    },
    {
      "cell_type": "code",
      "metadata": {
        "id": "zY4CmsvB97xf",
        "colab_type": "code",
        "colab": {
          "base_uri": "https://localhost:8080/",
          "height": 204
        },
        "outputId": "686affe4-bb2d-4767-8090-13ef15e59187"
      },
      "source": [
        "cursos.head()"
      ],
      "execution_count": 28,
      "outputs": [
        {
          "output_type": "execute_result",
          "data": {
            "text/html": [
              "<div>\n",
              "<style scoped>\n",
              "    .dataframe tbody tr th:only-of-type {\n",
              "        vertical-align: middle;\n",
              "    }\n",
              "\n",
              "    .dataframe tbody tr th {\n",
              "        vertical-align: top;\n",
              "    }\n",
              "\n",
              "    .dataframe thead th {\n",
              "        text-align: right;\n",
              "    }\n",
              "</style>\n",
              "<table border=\"1\" class=\"dataframe\">\n",
              "  <thead>\n",
              "    <tr style=\"text-align: right;\">\n",
              "      <th></th>\n",
              "      <th>nome_do_curso</th>\n",
              "      <th>id</th>\n",
              "    </tr>\n",
              "  </thead>\n",
              "  <tbody>\n",
              "    <tr>\n",
              "      <th>0</th>\n",
              "      <td>Lógica de programação</td>\n",
              "      <td>1</td>\n",
              "    </tr>\n",
              "    <tr>\n",
              "      <th>1</th>\n",
              "      <td>Java para Web</td>\n",
              "      <td>2</td>\n",
              "    </tr>\n",
              "    <tr>\n",
              "      <th>2</th>\n",
              "      <td>C# para Web</td>\n",
              "      <td>3</td>\n",
              "    </tr>\n",
              "    <tr>\n",
              "      <th>3</th>\n",
              "      <td>Ruby on Rails</td>\n",
              "      <td>4</td>\n",
              "    </tr>\n",
              "    <tr>\n",
              "      <th>4</th>\n",
              "      <td>Cursos de Python</td>\n",
              "      <td>5</td>\n",
              "    </tr>\n",
              "  </tbody>\n",
              "</table>\n",
              "</div>"
            ],
            "text/plain": [
              "           nome_do_curso  id\n",
              "0  Lógica de programação   1\n",
              "1          Java para Web   2\n",
              "2            C# para Web   3\n",
              "3          Ruby on Rails   4\n",
              "4       Cursos de Python   5"
            ]
          },
          "metadata": {
            "tags": []
          },
          "execution_count": 28
        }
      ]
    },
    {
      "cell_type": "code",
      "metadata": {
        "id": "-ZPUCXDL9-tm",
        "colab_type": "code",
        "colab": {}
      },
      "source": [
        "#setando um novo indice para o dataframe\n",
        "cursos = cursos.set_index('id')"
      ],
      "execution_count": 29,
      "outputs": []
    },
    {
      "cell_type": "code",
      "metadata": {
        "id": "YPJy6Huq-X5e",
        "colab_type": "code",
        "colab": {
          "base_uri": "https://localhost:8080/",
          "height": 235
        },
        "outputId": "d3ed5886-5ea5-4191-b6f6-51829137bb97"
      },
      "source": [
        "cursos.head()"
      ],
      "execution_count": 30,
      "outputs": [
        {
          "output_type": "execute_result",
          "data": {
            "text/html": [
              "<div>\n",
              "<style scoped>\n",
              "    .dataframe tbody tr th:only-of-type {\n",
              "        vertical-align: middle;\n",
              "    }\n",
              "\n",
              "    .dataframe tbody tr th {\n",
              "        vertical-align: top;\n",
              "    }\n",
              "\n",
              "    .dataframe thead th {\n",
              "        text-align: right;\n",
              "    }\n",
              "</style>\n",
              "<table border=\"1\" class=\"dataframe\">\n",
              "  <thead>\n",
              "    <tr style=\"text-align: right;\">\n",
              "      <th></th>\n",
              "      <th>nome_do_curso</th>\n",
              "    </tr>\n",
              "    <tr>\n",
              "      <th>id</th>\n",
              "      <th></th>\n",
              "    </tr>\n",
              "  </thead>\n",
              "  <tbody>\n",
              "    <tr>\n",
              "      <th>1</th>\n",
              "      <td>Lógica de programação</td>\n",
              "    </tr>\n",
              "    <tr>\n",
              "      <th>2</th>\n",
              "      <td>Java para Web</td>\n",
              "    </tr>\n",
              "    <tr>\n",
              "      <th>3</th>\n",
              "      <td>C# para Web</td>\n",
              "    </tr>\n",
              "    <tr>\n",
              "      <th>4</th>\n",
              "      <td>Ruby on Rails</td>\n",
              "    </tr>\n",
              "    <tr>\n",
              "      <th>5</th>\n",
              "      <td>Cursos de Python</td>\n",
              "    </tr>\n",
              "  </tbody>\n",
              "</table>\n",
              "</div>"
            ],
            "text/plain": [
              "            nome_do_curso\n",
              "id                       \n",
              "1   Lógica de programação\n",
              "2           Java para Web\n",
              "3             C# para Web\n",
              "4           Ruby on Rails\n",
              "5        Cursos de Python"
            ]
          },
          "metadata": {
            "tags": []
          },
          "execution_count": 30
        }
      ]
    },
    {
      "cell_type": "code",
      "metadata": {
        "id": "yeupVBUK-ZrW",
        "colab_type": "code",
        "colab": {
          "base_uri": "https://localhost:8080/",
          "height": 204
        },
        "outputId": "c7ef93f0-9752-41c9-eb03-863c077d3371"
      },
      "source": [
        "#visualizando os aluno\n",
        "nomes.sample(5)"
      ],
      "execution_count": 31,
      "outputs": [
        {
          "output_type": "execute_result",
          "data": {
            "text/html": [
              "<div>\n",
              "<style scoped>\n",
              "    .dataframe tbody tr th:only-of-type {\n",
              "        vertical-align: middle;\n",
              "    }\n",
              "\n",
              "    .dataframe tbody tr th {\n",
              "        vertical-align: top;\n",
              "    }\n",
              "\n",
              "    .dataframe thead th {\n",
              "        text-align: right;\n",
              "    }\n",
              "</style>\n",
              "<table border=\"1\" class=\"dataframe\">\n",
              "  <thead>\n",
              "    <tr style=\"text-align: right;\">\n",
              "      <th></th>\n",
              "      <th>nome</th>\n",
              "      <th>id_aluno</th>\n",
              "      <th>dominio</th>\n",
              "      <th>email</th>\n",
              "    </tr>\n",
              "  </thead>\n",
              "  <tbody>\n",
              "    <tr>\n",
              "      <th>59</th>\n",
              "      <td>ISABEL</td>\n",
              "      <td>83</td>\n",
              "      <td>@dominiodoemail.com.br</td>\n",
              "      <td>isabel@dominiodoemail.com.br</td>\n",
              "    </tr>\n",
              "    <tr>\n",
              "      <th>172</th>\n",
              "      <td>REBECA</td>\n",
              "      <td>165</td>\n",
              "      <td>@servicosdoemail.com</td>\n",
              "      <td>rebeca@servicosdoemail.com</td>\n",
              "    </tr>\n",
              "    <tr>\n",
              "      <th>130</th>\n",
              "      <td>JUNIOR</td>\n",
              "      <td>184</td>\n",
              "      <td>@dominiodoemail.com.br</td>\n",
              "      <td>junior@dominiodoemail.com.br</td>\n",
              "    </tr>\n",
              "    <tr>\n",
              "      <th>70</th>\n",
              "      <td>JOAQUIM</td>\n",
              "      <td>248</td>\n",
              "      <td>@servicosdoemail.com</td>\n",
              "      <td>joaquim@servicosdoemail.com</td>\n",
              "    </tr>\n",
              "    <tr>\n",
              "      <th>171</th>\n",
              "      <td>VALDEMIR</td>\n",
              "      <td>3</td>\n",
              "      <td>@dominiodoemail.com.br</td>\n",
              "      <td>valdemir@dominiodoemail.com.br</td>\n",
              "    </tr>\n",
              "  </tbody>\n",
              "</table>\n",
              "</div>"
            ],
            "text/plain": [
              "         nome  id_aluno                 dominio                           email\n",
              "59     ISABEL        83  @dominiodoemail.com.br    isabel@dominiodoemail.com.br\n",
              "172    REBECA       165    @servicosdoemail.com      rebeca@servicosdoemail.com\n",
              "130    JUNIOR       184  @dominiodoemail.com.br    junior@dominiodoemail.com.br\n",
              "70    JOAQUIM       248    @servicosdoemail.com     joaquim@servicosdoemail.com\n",
              "171  VALDEMIR         3  @dominiodoemail.com.br  valdemir@dominiodoemail.com.br"
            ]
          },
          "metadata": {
            "tags": []
          },
          "execution_count": 31
        }
      ]
    },
    {
      "cell_type": "markdown",
      "metadata": {
        "id": "jlkTXcf4A9QU",
        "colab_type": "text"
      },
      "source": [
        "# Matriculando os aluno no cursos"
      ]
    },
    {
      "cell_type": "code",
      "metadata": {
        "id": "WCOPwXfoAyCQ",
        "colab_type": "code",
        "colab": {}
      },
      "source": [
        "#adicionando uma nova coluna\n",
        "nomes['matriculas'] = np.ceil(np.random.exponential(size=total_alunos) * 1.5).astype(int)"
      ],
      "execution_count": 32,
      "outputs": []
    },
    {
      "cell_type": "code",
      "metadata": {
        "id": "GJbhTmTHBxT-",
        "colab_type": "code",
        "colab": {
          "base_uri": "https://localhost:8080/",
          "height": 359
        },
        "outputId": "c3707484-ef9b-4b6a-d358-ab11197ea835"
      },
      "source": [
        "nomes.sample(10)"
      ],
      "execution_count": 33,
      "outputs": [
        {
          "output_type": "execute_result",
          "data": {
            "text/html": [
              "<div>\n",
              "<style scoped>\n",
              "    .dataframe tbody tr th:only-of-type {\n",
              "        vertical-align: middle;\n",
              "    }\n",
              "\n",
              "    .dataframe tbody tr th {\n",
              "        vertical-align: top;\n",
              "    }\n",
              "\n",
              "    .dataframe thead th {\n",
              "        text-align: right;\n",
              "    }\n",
              "</style>\n",
              "<table border=\"1\" class=\"dataframe\">\n",
              "  <thead>\n",
              "    <tr style=\"text-align: right;\">\n",
              "      <th></th>\n",
              "      <th>nome</th>\n",
              "      <th>id_aluno</th>\n",
              "      <th>dominio</th>\n",
              "      <th>email</th>\n",
              "      <th>matriculas</th>\n",
              "    </tr>\n",
              "  </thead>\n",
              "  <tbody>\n",
              "    <tr>\n",
              "      <th>133</th>\n",
              "      <td>RUAN</td>\n",
              "      <td>130</td>\n",
              "      <td>@servicosdoemail.com</td>\n",
              "      <td>ruan@servicosdoemail.com</td>\n",
              "      <td>1</td>\n",
              "    </tr>\n",
              "    <tr>\n",
              "      <th>44</th>\n",
              "      <td>RAIMUNDA</td>\n",
              "      <td>259</td>\n",
              "      <td>@servicosdoemail.com</td>\n",
              "      <td>raimunda@servicosdoemail.com</td>\n",
              "      <td>1</td>\n",
              "    </tr>\n",
              "    <tr>\n",
              "      <th>50</th>\n",
              "      <td>RAFAELA</td>\n",
              "      <td>27</td>\n",
              "      <td>@dominiodoemail.com.br</td>\n",
              "      <td>rafaela@dominiodoemail.com.br</td>\n",
              "      <td>1</td>\n",
              "    </tr>\n",
              "    <tr>\n",
              "      <th>45</th>\n",
              "      <td>ADRIANO</td>\n",
              "      <td>196</td>\n",
              "      <td>@servicosdoemail.com</td>\n",
              "      <td>adriano@servicosdoemail.com</td>\n",
              "      <td>2</td>\n",
              "    </tr>\n",
              "    <tr>\n",
              "      <th>117</th>\n",
              "      <td>PAMELA</td>\n",
              "      <td>189</td>\n",
              "      <td>@dominiodoemail.com.br</td>\n",
              "      <td>pamela@dominiodoemail.com.br</td>\n",
              "      <td>1</td>\n",
              "    </tr>\n",
              "    <tr>\n",
              "      <th>45</th>\n",
              "      <td>ANDREIA</td>\n",
              "      <td>37</td>\n",
              "      <td>@dominiodoemail.com.br</td>\n",
              "      <td>andreia@dominiodoemail.com.br</td>\n",
              "      <td>1</td>\n",
              "    </tr>\n",
              "    <tr>\n",
              "      <th>116</th>\n",
              "      <td>DOMINGOS</td>\n",
              "      <td>150</td>\n",
              "      <td>@servicosdoemail.com</td>\n",
              "      <td>domingos@servicosdoemail.com</td>\n",
              "      <td>1</td>\n",
              "    </tr>\n",
              "    <tr>\n",
              "      <th>145</th>\n",
              "      <td>FRANCIELE</td>\n",
              "      <td>316</td>\n",
              "      <td>@dominiodoemail.com.br</td>\n",
              "      <td>franciele@dominiodoemail.com.br</td>\n",
              "      <td>1</td>\n",
              "    </tr>\n",
              "    <tr>\n",
              "      <th>52</th>\n",
              "      <td>SAMUEL</td>\n",
              "      <td>220</td>\n",
              "      <td>@dominiodoemail.com.br</td>\n",
              "      <td>samuel@dominiodoemail.com.br</td>\n",
              "      <td>1</td>\n",
              "    </tr>\n",
              "    <tr>\n",
              "      <th>55</th>\n",
              "      <td>DANIELE</td>\n",
              "      <td>25</td>\n",
              "      <td>@dominiodoemail.com.br</td>\n",
              "      <td>daniele@dominiodoemail.com.br</td>\n",
              "      <td>4</td>\n",
              "    </tr>\n",
              "  </tbody>\n",
              "</table>\n",
              "</div>"
            ],
            "text/plain": [
              "          nome  id_aluno  ...                            email matriculas\n",
              "133       RUAN       130  ...         ruan@servicosdoemail.com          1\n",
              "44    RAIMUNDA       259  ...     raimunda@servicosdoemail.com          1\n",
              "50     RAFAELA        27  ...    rafaela@dominiodoemail.com.br          1\n",
              "45     ADRIANO       196  ...      adriano@servicosdoemail.com          2\n",
              "117     PAMELA       189  ...     pamela@dominiodoemail.com.br          1\n",
              "45     ANDREIA        37  ...    andreia@dominiodoemail.com.br          1\n",
              "116   DOMINGOS       150  ...     domingos@servicosdoemail.com          1\n",
              "145  FRANCIELE       316  ...  franciele@dominiodoemail.com.br          1\n",
              "52      SAMUEL       220  ...     samuel@dominiodoemail.com.br          1\n",
              "55     DANIELE        25  ...    daniele@dominiodoemail.com.br          4\n",
              "\n",
              "[10 rows x 5 columns]"
            ]
          },
          "metadata": {
            "tags": []
          },
          "execution_count": 33
        }
      ]
    },
    {
      "cell_type": "code",
      "metadata": {
        "id": "ZUpwFTiwB0pS",
        "colab_type": "code",
        "colab": {
          "base_uri": "https://localhost:8080/",
          "height": 170
        },
        "outputId": "5dd4075f-f63d-4ff2-dfca-35e795fc7d79"
      },
      "source": [
        "#descrevendo a tabela matricula\n",
        "nomes.matriculas.describe()"
      ],
      "execution_count": 34,
      "outputs": [
        {
          "output_type": "execute_result",
          "data": {
            "text/plain": [
              "count    400.000000\n",
              "mean       2.147500\n",
              "std        1.619352\n",
              "min        1.000000\n",
              "25%        1.000000\n",
              "50%        1.500000\n",
              "75%        3.000000\n",
              "max       10.000000\n",
              "Name: matriculas, dtype: float64"
            ]
          },
          "metadata": {
            "tags": []
          },
          "execution_count": 34
        }
      ]
    },
    {
      "cell_type": "code",
      "metadata": {
        "id": "9nONjvw2CfKp",
        "colab_type": "code",
        "colab": {
          "base_uri": "https://localhost:8080/",
          "height": 71
        },
        "outputId": "f2a66002-312f-4495-c0c6-7cad957e96db"
      },
      "source": [
        "#visualizando os dados\n",
        "import seaborn as sns"
      ],
      "execution_count": 35,
      "outputs": [
        {
          "output_type": "stream",
          "text": [
            "/usr/local/lib/python3.6/dist-packages/statsmodels/tools/_testing.py:19: FutureWarning: pandas.util.testing is deprecated. Use the functions in the public API at pandas.testing instead.\n",
            "  import pandas.util.testing as tm\n"
          ],
          "name": "stderr"
        }
      ]
    },
    {
      "cell_type": "code",
      "metadata": {
        "id": "TLgEotzqCyzg",
        "colab_type": "code",
        "colab": {
          "base_uri": "https://localhost:8080/",
          "height": 296
        },
        "outputId": "9b88dcb2-3155-4c5d-86aa-88e4075c1d34"
      },
      "source": [
        "sns.distplot(nomes.matriculas)"
      ],
      "execution_count": 36,
      "outputs": [
        {
          "output_type": "execute_result",
          "data": {
            "text/plain": [
              "<matplotlib.axes._subplots.AxesSubplot at 0x7fb2b85e8fd0>"
            ]
          },
          "metadata": {
            "tags": []
          },
          "execution_count": 36
        },
        {
          "output_type": "display_data",
          "data": {
            "image/png": "[encoded data removed]",
            "text/plain": [
              "<Figure size 432x288 with 1 Axes>"
            ]
          },
          "metadata": {
            "tags": [],
            "needs_background": "light"
          }
        }
      ]
    },
    {
      "cell_type": "code",
      "metadata": {
        "id": "8CwKgPFKC9QQ",
        "colab_type": "code",
        "colab": {
          "base_uri": "https://localhost:8080/",
          "height": 204
        },
        "outputId": "6bc1ce99-3f62-40e6-f993-7f3b3d531b5f"
      },
      "source": [
        "#identificando o aluno que fez mais cursos\n",
        "nomes.matriculas.value_counts()"
      ],
      "execution_count": 37,
      "outputs": [
        {
          "output_type": "execute_result",
          "data": {
            "text/plain": [
              "1     200\n",
              "2      87\n",
              "3      46\n",
              "4      30\n",
              "5      15\n",
              "7       9\n",
              "6       9\n",
              "8       2\n",
              "10      1\n",
              "9       1\n",
              "Name: matriculas, dtype: int64"
            ]
          },
          "metadata": {
            "tags": []
          },
          "execution_count": 37
        }
      ]
    },
    {
      "cell_type": "code",
      "metadata": {
        "id": "jdh7O4Y_DYg3",
        "colab_type": "code",
        "colab": {
          "base_uri": "https://localhost:8080/",
          "height": 204
        },
        "outputId": "5381108d-631d-4c97-c7e4-13ff0a21de21"
      },
      "source": [
        "nomes.sample(5)"
      ],
      "execution_count": 38,
      "outputs": [
        {
          "output_type": "execute_result",
          "data": {
            "text/html": [
              "<div>\n",
              "<style scoped>\n",
              "    .dataframe tbody tr th:only-of-type {\n",
              "        vertical-align: middle;\n",
              "    }\n",
              "\n",
              "    .dataframe tbody tr th {\n",
              "        vertical-align: top;\n",
              "    }\n",
              "\n",
              "    .dataframe thead th {\n",
              "        text-align: right;\n",
              "    }\n",
              "</style>\n",
              "<table border=\"1\" class=\"dataframe\">\n",
              "  <thead>\n",
              "    <tr style=\"text-align: right;\">\n",
              "      <th></th>\n",
              "      <th>nome</th>\n",
              "      <th>id_aluno</th>\n",
              "      <th>dominio</th>\n",
              "      <th>email</th>\n",
              "      <th>matriculas</th>\n",
              "    </tr>\n",
              "  </thead>\n",
              "  <tbody>\n",
              "    <tr>\n",
              "      <th>97</th>\n",
              "      <td>BARBARA</td>\n",
              "      <td>201</td>\n",
              "      <td>@servicosdoemail.com</td>\n",
              "      <td>barbara@servicosdoemail.com</td>\n",
              "      <td>1</td>\n",
              "    </tr>\n",
              "    <tr>\n",
              "      <th>170</th>\n",
              "      <td>ALEXANDRO</td>\n",
              "      <td>341</td>\n",
              "      <td>@servicosdoemail.com</td>\n",
              "      <td>alexandro@servicosdoemail.com</td>\n",
              "      <td>1</td>\n",
              "    </tr>\n",
              "    <tr>\n",
              "      <th>197</th>\n",
              "      <td>MICHAEL</td>\n",
              "      <td>323</td>\n",
              "      <td>@dominiodoemail.com.br</td>\n",
              "      <td>michael@dominiodoemail.com.br</td>\n",
              "      <td>2</td>\n",
              "    </tr>\n",
              "    <tr>\n",
              "      <th>196</th>\n",
              "      <td>ARLINDO</td>\n",
              "      <td>99</td>\n",
              "      <td>@servicosdoemail.com</td>\n",
              "      <td>arlindo@servicosdoemail.com</td>\n",
              "      <td>1</td>\n",
              "    </tr>\n",
              "    <tr>\n",
              "      <th>138</th>\n",
              "      <td>NEUSA</td>\n",
              "      <td>75</td>\n",
              "      <td>@dominiodoemail.com.br</td>\n",
              "      <td>neusa@dominiodoemail.com.br</td>\n",
              "      <td>2</td>\n",
              "    </tr>\n",
              "  </tbody>\n",
              "</table>\n",
              "</div>"
            ],
            "text/plain": [
              "          nome  id_aluno  ...                          email matriculas\n",
              "97     BARBARA       201  ...    barbara@servicosdoemail.com          1\n",
              "170  ALEXANDRO       341  ...  alexandro@servicosdoemail.com          1\n",
              "197    MICHAEL       323  ...  michael@dominiodoemail.com.br          2\n",
              "196    ARLINDO        99  ...    arlindo@servicosdoemail.com          1\n",
              "138      NEUSA        75  ...    neusa@dominiodoemail.com.br          2\n",
              "\n",
              "[5 rows x 5 columns]"
            ]
          },
          "metadata": {
            "tags": []
          },
          "execution_count": 38
        }
      ]
    },
    {
      "cell_type": "markdown",
      "metadata": {
        "id": "a5MvAP5OD94S",
        "colab_type": "text"
      },
      "source": [
        "# Selecionando cursos"
      ]
    },
    {
      "cell_type": "code",
      "metadata": {
        "id": "C_7hdMLnDr-f",
        "colab_type": "code",
        "colab": {
          "base_uri": "https://localhost:8080/",
          "height": 204
        },
        "outputId": "5c29deab-20ca-498f-e2de-2924a9ac8990"
      },
      "source": [
        "nomes.sample(5)"
      ],
      "execution_count": 39,
      "outputs": [
        {
          "output_type": "execute_result",
          "data": {
            "text/html": [
              "<div>\n",
              "<style scoped>\n",
              "    .dataframe tbody tr th:only-of-type {\n",
              "        vertical-align: middle;\n",
              "    }\n",
              "\n",
              "    .dataframe tbody tr th {\n",
              "        vertical-align: top;\n",
              "    }\n",
              "\n",
              "    .dataframe thead th {\n",
              "        text-align: right;\n",
              "    }\n",
              "</style>\n",
              "<table border=\"1\" class=\"dataframe\">\n",
              "  <thead>\n",
              "    <tr style=\"text-align: right;\">\n",
              "      <th></th>\n",
              "      <th>nome</th>\n",
              "      <th>id_aluno</th>\n",
              "      <th>dominio</th>\n",
              "      <th>email</th>\n",
              "      <th>matriculas</th>\n",
              "    </tr>\n",
              "  </thead>\n",
              "  <tbody>\n",
              "    <tr>\n",
              "      <th>34</th>\n",
              "      <td>CRISTIANE</td>\n",
              "      <td>350</td>\n",
              "      <td>@dominiodoemail.com.br</td>\n",
              "      <td>cristiane@dominiodoemail.com.br</td>\n",
              "      <td>1</td>\n",
              "    </tr>\n",
              "    <tr>\n",
              "      <th>154</th>\n",
              "      <td>NICOLE</td>\n",
              "      <td>182</td>\n",
              "      <td>@dominiodoemail.com.br</td>\n",
              "      <td>nicole@dominiodoemail.com.br</td>\n",
              "      <td>2</td>\n",
              "    </tr>\n",
              "    <tr>\n",
              "      <th>191</th>\n",
              "      <td>TERESA</td>\n",
              "      <td>264</td>\n",
              "      <td>@dominiodoemail.com.br</td>\n",
              "      <td>teresa@dominiodoemail.com.br</td>\n",
              "      <td>1</td>\n",
              "    </tr>\n",
              "    <tr>\n",
              "      <th>132</th>\n",
              "      <td>GABRIELE</td>\n",
              "      <td>72</td>\n",
              "      <td>@dominiodoemail.com.br</td>\n",
              "      <td>gabriele@dominiodoemail.com.br</td>\n",
              "      <td>2</td>\n",
              "    </tr>\n",
              "    <tr>\n",
              "      <th>110</th>\n",
              "      <td>LUCIENE</td>\n",
              "      <td>22</td>\n",
              "      <td>@dominiodoemail.com.br</td>\n",
              "      <td>luciene@dominiodoemail.com.br</td>\n",
              "      <td>2</td>\n",
              "    </tr>\n",
              "  </tbody>\n",
              "</table>\n",
              "</div>"
            ],
            "text/plain": [
              "          nome  id_aluno  ...                            email matriculas\n",
              "34   CRISTIANE       350  ...  cristiane@dominiodoemail.com.br          1\n",
              "154     NICOLE       182  ...     nicole@dominiodoemail.com.br          2\n",
              "191     TERESA       264  ...     teresa@dominiodoemail.com.br          1\n",
              "132   GABRIELE        72  ...   gabriele@dominiodoemail.com.br          2\n",
              "110    LUCIENE        22  ...    luciene@dominiodoemail.com.br          2\n",
              "\n",
              "[5 rows x 5 columns]"
            ]
          },
          "metadata": {
            "tags": []
          },
          "execution_count": 39
        }
      ]
    },
    {
      "cell_type": "code",
      "metadata": {
        "id": "_QSpYOXbESl2",
        "colab_type": "code",
        "colab": {}
      },
      "source": [
        "#criando uma tabela \n",
        "todas_matriculas = []\n",
        "x = np.random.rand(20)\n",
        "prob = x / sum(x)"
      ],
      "execution_count": 40,
      "outputs": []
    },
    {
      "cell_type": "code",
      "metadata": {
        "id": "fSjqufsgE7zG",
        "colab_type": "code",
        "colab": {}
      },
      "source": [
        "#fazendo o loop para escolher um curso e juntar com aluno\n",
        "for index, row in nomes.iterrows():\n",
        "  id = row.id_aluno\n",
        "  matriculas = row.matriculas\n",
        "  for i in range(matriculas):\n",
        "    mat = [id, np.random.choice(cursos.index, p = prob)]\n",
        "    todas_matriculas.append(mat)\n",
        "\n",
        "#criando o dataframe de matriculas\n",
        "matriculas = pd.DataFrame(todas_matriculas, columns= ['id_aluno', 'id_curso'])"
      ],
      "execution_count": 41,
      "outputs": []
    },
    {
      "cell_type": "code",
      "metadata": {
        "id": "-axEdRKhIHzW",
        "colab_type": "code",
        "colab": {
          "base_uri": "https://localhost:8080/",
          "height": 204
        },
        "outputId": "274219fe-f77e-4afd-dcba-3f9c8c5b5841"
      },
      "source": [
        "matriculas.head()"
      ],
      "execution_count": 42,
      "outputs": [
        {
          "output_type": "execute_result",
          "data": {
            "text/html": [
              "<div>\n",
              "<style scoped>\n",
              "    .dataframe tbody tr th:only-of-type {\n",
              "        vertical-align: middle;\n",
              "    }\n",
              "\n",
              "    .dataframe tbody tr th {\n",
              "        vertical-align: top;\n",
              "    }\n",
              "\n",
              "    .dataframe thead th {\n",
              "        text-align: right;\n",
              "    }\n",
              "</style>\n",
              "<table border=\"1\" class=\"dataframe\">\n",
              "  <thead>\n",
              "    <tr style=\"text-align: right;\">\n",
              "      <th></th>\n",
              "      <th>id_aluno</th>\n",
              "      <th>id_curso</th>\n",
              "    </tr>\n",
              "  </thead>\n",
              "  <tbody>\n",
              "    <tr>\n",
              "      <th>0</th>\n",
              "      <td>235</td>\n",
              "      <td>19</td>\n",
              "    </tr>\n",
              "    <tr>\n",
              "      <th>1</th>\n",
              "      <td>235</td>\n",
              "      <td>19</td>\n",
              "    </tr>\n",
              "    <tr>\n",
              "      <th>2</th>\n",
              "      <td>43</td>\n",
              "      <td>9</td>\n",
              "    </tr>\n",
              "    <tr>\n",
              "      <th>3</th>\n",
              "      <td>43</td>\n",
              "      <td>1</td>\n",
              "    </tr>\n",
              "    <tr>\n",
              "      <th>4</th>\n",
              "      <td>43</td>\n",
              "      <td>19</td>\n",
              "    </tr>\n",
              "  </tbody>\n",
              "</table>\n",
              "</div>"
            ],
            "text/plain": [
              "   id_aluno  id_curso\n",
              "0       235        19\n",
              "1       235        19\n",
              "2        43         9\n",
              "3        43         1\n",
              "4        43        19"
            ]
          },
          "metadata": {
            "tags": []
          },
          "execution_count": 42
        }
      ]
    },
    {
      "cell_type": "code",
      "metadata": {
        "id": "9zu9LIDnIMmp",
        "colab_type": "code",
        "colab": {
          "base_uri": "https://localhost:8080/",
          "height": 700
        },
        "outputId": "7889b979-83dd-45eb-addb-23fdec2cbb21"
      },
      "source": [
        "#fazendo join entres os dataframes \n",
        "matriculas.groupby('id_curso').count().join(cursos['nome_do_curso']).rename(columns={'id_aluno' : 'quantidade_alunos'})"
      ],
      "execution_count": 43,
      "outputs": [
        {
          "output_type": "execute_result",
          "data": {
            "text/html": [
              "<div>\n",
              "<style scoped>\n",
              "    .dataframe tbody tr th:only-of-type {\n",
              "        vertical-align: middle;\n",
              "    }\n",
              "\n",
              "    .dataframe tbody tr th {\n",
              "        vertical-align: top;\n",
              "    }\n",
              "\n",
              "    .dataframe thead th {\n",
              "        text-align: right;\n",
              "    }\n",
              "</style>\n",
              "<table border=\"1\" class=\"dataframe\">\n",
              "  <thead>\n",
              "    <tr style=\"text-align: right;\">\n",
              "      <th></th>\n",
              "      <th>quantidade_alunos</th>\n",
              "      <th>nome_do_curso</th>\n",
              "    </tr>\n",
              "    <tr>\n",
              "      <th>id_curso</th>\n",
              "      <th></th>\n",
              "      <th></th>\n",
              "    </tr>\n",
              "  </thead>\n",
              "  <tbody>\n",
              "    <tr>\n",
              "      <th>1</th>\n",
              "      <td>62</td>\n",
              "      <td>Lógica de programação</td>\n",
              "    </tr>\n",
              "    <tr>\n",
              "      <th>2</th>\n",
              "      <td>52</td>\n",
              "      <td>Java para Web</td>\n",
              "    </tr>\n",
              "    <tr>\n",
              "      <th>3</th>\n",
              "      <td>25</td>\n",
              "      <td>C# para Web</td>\n",
              "    </tr>\n",
              "    <tr>\n",
              "      <th>4</th>\n",
              "      <td>33</td>\n",
              "      <td>Ruby on Rails</td>\n",
              "    </tr>\n",
              "    <tr>\n",
              "      <th>5</th>\n",
              "      <td>59</td>\n",
              "      <td>Cursos de Python</td>\n",
              "    </tr>\n",
              "    <tr>\n",
              "      <th>6</th>\n",
              "      <td>17</td>\n",
              "      <td>PHP com MySql</td>\n",
              "    </tr>\n",
              "    <tr>\n",
              "      <th>7</th>\n",
              "      <td>56</td>\n",
              "      <td>.NET para web</td>\n",
              "    </tr>\n",
              "    <tr>\n",
              "      <th>8</th>\n",
              "      <td>37</td>\n",
              "      <td>Novas integrações com Java</td>\n",
              "    </tr>\n",
              "    <tr>\n",
              "      <th>9</th>\n",
              "      <td>70</td>\n",
              "      <td>TDD com Java</td>\n",
              "    </tr>\n",
              "    <tr>\n",
              "      <th>10</th>\n",
              "      <td>12</td>\n",
              "      <td>Código limpo com C#</td>\n",
              "    </tr>\n",
              "    <tr>\n",
              "      <th>11</th>\n",
              "      <td>81</td>\n",
              "      <td>Preparatório para certificação Java</td>\n",
              "    </tr>\n",
              "    <tr>\n",
              "      <th>12</th>\n",
              "      <td>22</td>\n",
              "      <td>Hardware básico</td>\n",
              "    </tr>\n",
              "    <tr>\n",
              "      <th>13</th>\n",
              "      <td>52</td>\n",
              "      <td>Persistência com .NET</td>\n",
              "    </tr>\n",
              "    <tr>\n",
              "      <th>14</th>\n",
              "      <td>31</td>\n",
              "      <td>Desenvolvendo jogos</td>\n",
              "    </tr>\n",
              "    <tr>\n",
              "      <th>15</th>\n",
              "      <td>82</td>\n",
              "      <td>Análise de dados</td>\n",
              "    </tr>\n",
              "    <tr>\n",
              "      <th>16</th>\n",
              "      <td>16</td>\n",
              "      <td>Estatística básica</td>\n",
              "    </tr>\n",
              "    <tr>\n",
              "      <th>17</th>\n",
              "      <td>44</td>\n",
              "      <td>Internet das coisas</td>\n",
              "    </tr>\n",
              "    <tr>\n",
              "      <th>18</th>\n",
              "      <td>23</td>\n",
              "      <td>Programação funcional</td>\n",
              "    </tr>\n",
              "    <tr>\n",
              "      <th>19</th>\n",
              "      <td>67</td>\n",
              "      <td>Boas práticas em Java</td>\n",
              "    </tr>\n",
              "    <tr>\n",
              "      <th>20</th>\n",
              "      <td>18</td>\n",
              "      <td>Orientação objetos com Java</td>\n",
              "    </tr>\n",
              "  </tbody>\n",
              "</table>\n",
              "</div>"
            ],
            "text/plain": [
              "          quantidade_alunos                        nome_do_curso\n",
              "id_curso                                                        \n",
              "1                        62                Lógica de programação\n",
              "2                        52                        Java para Web\n",
              "3                        25                          C# para Web\n",
              "4                        33                        Ruby on Rails\n",
              "5                        59                     Cursos de Python\n",
              "6                        17                        PHP com MySql\n",
              "7                        56                        .NET para web\n",
              "8                        37           Novas integrações com Java\n",
              "9                        70                         TDD com Java\n",
              "10                       12                  Código limpo com C#\n",
              "11                       81  Preparatório para certificação Java\n",
              "12                       22                      Hardware básico\n",
              "13                       52                Persistência com .NET\n",
              "14                       31                  Desenvolvendo jogos\n",
              "15                       82                     Análise de dados\n",
              "16                       16                   Estatística básica\n",
              "17                       44                  Internet das coisas\n",
              "18                       23                Programação funcional\n",
              "19                       67                Boas práticas em Java\n",
              "20                       18          Orientação objetos com Java"
            ]
          },
          "metadata": {
            "tags": []
          },
          "execution_count": 43
        }
      ]
    },
    {
      "cell_type": "code",
      "metadata": {
        "id": "qRTvq4dHI7Mp",
        "colab_type": "code",
        "colab": {
          "base_uri": "https://localhost:8080/",
          "height": 359
        },
        "outputId": "aa6b7a5f-ce85-4420-f50d-bf2799c4304d"
      },
      "source": [
        "nomes.sample(10)"
      ],
      "execution_count": 44,
      "outputs": [
        {
          "output_type": "execute_result",
          "data": {
            "text/html": [
              "<div>\n",
              "<style scoped>\n",
              "    .dataframe tbody tr th:only-of-type {\n",
              "        vertical-align: middle;\n",
              "    }\n",
              "\n",
              "    .dataframe tbody tr th {\n",
              "        vertical-align: top;\n",
              "    }\n",
              "\n",
              "    .dataframe thead th {\n",
              "        text-align: right;\n",
              "    }\n",
              "</style>\n",
              "<table border=\"1\" class=\"dataframe\">\n",
              "  <thead>\n",
              "    <tr style=\"text-align: right;\">\n",
              "      <th></th>\n",
              "      <th>nome</th>\n",
              "      <th>id_aluno</th>\n",
              "      <th>dominio</th>\n",
              "      <th>email</th>\n",
              "      <th>matriculas</th>\n",
              "    </tr>\n",
              "  </thead>\n",
              "  <tbody>\n",
              "    <tr>\n",
              "      <th>167</th>\n",
              "      <td>TAINARA</td>\n",
              "      <td>128</td>\n",
              "      <td>@servicosdoemail.com</td>\n",
              "      <td>tainara@servicosdoemail.com</td>\n",
              "      <td>2</td>\n",
              "    </tr>\n",
              "    <tr>\n",
              "      <th>141</th>\n",
              "      <td>NEIDE</td>\n",
              "      <td>325</td>\n",
              "      <td>@dominiodoemail.com.br</td>\n",
              "      <td>neide@dominiodoemail.com.br</td>\n",
              "      <td>1</td>\n",
              "    </tr>\n",
              "    <tr>\n",
              "      <th>88</th>\n",
              "      <td>GILMAR</td>\n",
              "      <td>142</td>\n",
              "      <td>@servicosdoemail.com</td>\n",
              "      <td>gilmar@servicosdoemail.com</td>\n",
              "      <td>1</td>\n",
              "    </tr>\n",
              "    <tr>\n",
              "      <th>15</th>\n",
              "      <td>BRUNO</td>\n",
              "      <td>293</td>\n",
              "      <td>@dominiodoemail.com.br</td>\n",
              "      <td>bruno@dominiodoemail.com.br</td>\n",
              "      <td>6</td>\n",
              "    </tr>\n",
              "    <tr>\n",
              "      <th>69</th>\n",
              "      <td>REGINALDO</td>\n",
              "      <td>170</td>\n",
              "      <td>@servicosdoemail.com</td>\n",
              "      <td>reginaldo@servicosdoemail.com</td>\n",
              "      <td>7</td>\n",
              "    </tr>\n",
              "    <tr>\n",
              "      <th>131</th>\n",
              "      <td>ANGELICA</td>\n",
              "      <td>370</td>\n",
              "      <td>@dominiodoemail.com.br</td>\n",
              "      <td>angelica@dominiodoemail.com.br</td>\n",
              "      <td>1</td>\n",
              "    </tr>\n",
              "    <tr>\n",
              "      <th>137</th>\n",
              "      <td>AUGUSTO</td>\n",
              "      <td>376</td>\n",
              "      <td>@dominiodoemail.com.br</td>\n",
              "      <td>augusto@dominiodoemail.com.br</td>\n",
              "      <td>1</td>\n",
              "    </tr>\n",
              "    <tr>\n",
              "      <th>54</th>\n",
              "      <td>REGINA</td>\n",
              "      <td>281</td>\n",
              "      <td>@dominiodoemail.com.br</td>\n",
              "      <td>regina@dominiodoemail.com.br</td>\n",
              "      <td>1</td>\n",
              "    </tr>\n",
              "    <tr>\n",
              "      <th>98</th>\n",
              "      <td>GILSON</td>\n",
              "      <td>134</td>\n",
              "      <td>@dominiodoemail.com.br</td>\n",
              "      <td>gilson@dominiodoemail.com.br</td>\n",
              "      <td>2</td>\n",
              "    </tr>\n",
              "    <tr>\n",
              "      <th>180</th>\n",
              "      <td>LIDIA</td>\n",
              "      <td>167</td>\n",
              "      <td>@dominiodoemail.com.br</td>\n",
              "      <td>lidia@dominiodoemail.com.br</td>\n",
              "      <td>1</td>\n",
              "    </tr>\n",
              "  </tbody>\n",
              "</table>\n",
              "</div>"
            ],
            "text/plain": [
              "          nome  id_aluno  ...                           email matriculas\n",
              "167    TAINARA       128  ...     tainara@servicosdoemail.com          2\n",
              "141      NEIDE       325  ...     neide@dominiodoemail.com.br          1\n",
              "88      GILMAR       142  ...      gilmar@servicosdoemail.com          1\n",
              "15       BRUNO       293  ...     bruno@dominiodoemail.com.br          6\n",
              "69   REGINALDO       170  ...   reginaldo@servicosdoemail.com          7\n",
              "131   ANGELICA       370  ...  angelica@dominiodoemail.com.br          1\n",
              "137    AUGUSTO       376  ...   augusto@dominiodoemail.com.br          1\n",
              "54      REGINA       281  ...    regina@dominiodoemail.com.br          1\n",
              "98      GILSON       134  ...    gilson@dominiodoemail.com.br          2\n",
              "180      LIDIA       167  ...     lidia@dominiodoemail.com.br          1\n",
              "\n",
              "[10 rows x 5 columns]"
            ]
          },
          "metadata": {
            "tags": []
          },
          "execution_count": 44
        }
      ]
    },
    {
      "cell_type": "code",
      "metadata": {
        "id": "s10IGFYMKYzZ",
        "colab_type": "code",
        "colab": {}
      },
      "source": [
        "matriculas_por_cursos = matriculas.groupby('id_curso').count().join(cursos['nome_do_curso']).rename(columns={'id_aluno' : 'quantidade_alunos'})"
      ],
      "execution_count": 45,
      "outputs": []
    },
    {
      "cell_type": "code",
      "metadata": {
        "id": "TdK7g-EMKvx2",
        "colab_type": "code",
        "colab": {
          "base_uri": "https://localhost:8080/",
          "height": 235
        },
        "outputId": "52b54df7-c7d8-462b-917c-32672746a6a1"
      },
      "source": [
        "matriculas_por_cursos.head()"
      ],
      "execution_count": 46,
      "outputs": [
        {
          "output_type": "execute_result",
          "data": {
            "text/html": [
              "<div>\n",
              "<style scoped>\n",
              "    .dataframe tbody tr th:only-of-type {\n",
              "        vertical-align: middle;\n",
              "    }\n",
              "\n",
              "    .dataframe tbody tr th {\n",
              "        vertical-align: top;\n",
              "    }\n",
              "\n",
              "    .dataframe thead th {\n",
              "        text-align: right;\n",
              "    }\n",
              "</style>\n",
              "<table border=\"1\" class=\"dataframe\">\n",
              "  <thead>\n",
              "    <tr style=\"text-align: right;\">\n",
              "      <th></th>\n",
              "      <th>quantidade_alunos</th>\n",
              "      <th>nome_do_curso</th>\n",
              "    </tr>\n",
              "    <tr>\n",
              "      <th>id_curso</th>\n",
              "      <th></th>\n",
              "      <th></th>\n",
              "    </tr>\n",
              "  </thead>\n",
              "  <tbody>\n",
              "    <tr>\n",
              "      <th>1</th>\n",
              "      <td>62</td>\n",
              "      <td>Lógica de programação</td>\n",
              "    </tr>\n",
              "    <tr>\n",
              "      <th>2</th>\n",
              "      <td>52</td>\n",
              "      <td>Java para Web</td>\n",
              "    </tr>\n",
              "    <tr>\n",
              "      <th>3</th>\n",
              "      <td>25</td>\n",
              "      <td>C# para Web</td>\n",
              "    </tr>\n",
              "    <tr>\n",
              "      <th>4</th>\n",
              "      <td>33</td>\n",
              "      <td>Ruby on Rails</td>\n",
              "    </tr>\n",
              "    <tr>\n",
              "      <th>5</th>\n",
              "      <td>59</td>\n",
              "      <td>Cursos de Python</td>\n",
              "    </tr>\n",
              "  </tbody>\n",
              "</table>\n",
              "</div>"
            ],
            "text/plain": [
              "          quantidade_alunos          nome_do_curso\n",
              "id_curso                                          \n",
              "1                        62  Lógica de programação\n",
              "2                        52          Java para Web\n",
              "3                        25            C# para Web\n",
              "4                        33          Ruby on Rails\n",
              "5                        59       Cursos de Python"
            ]
          },
          "metadata": {
            "tags": []
          },
          "execution_count": 46
        }
      ]
    },
    {
      "cell_type": "markdown",
      "metadata": {
        "id": "-igy25XKLMXB",
        "colab_type": "text"
      },
      "source": [
        "# Saída em diferentes formatos"
      ]
    },
    {
      "cell_type": "code",
      "metadata": {
        "id": "jqp8a9drKztu",
        "colab_type": "code",
        "colab": {
          "base_uri": "https://localhost:8080/",
          "height": 173
        },
        "outputId": "58b0f626-575c-4181-aa6e-2d7ce3ce6d74"
      },
      "source": [
        "matriculas_por_cursos.head(3)"
      ],
      "execution_count": 47,
      "outputs": [
        {
          "output_type": "execute_result",
          "data": {
            "text/html": [
              "<div>\n",
              "<style scoped>\n",
              "    .dataframe tbody tr th:only-of-type {\n",
              "        vertical-align: middle;\n",
              "    }\n",
              "\n",
              "    .dataframe tbody tr th {\n",
              "        vertical-align: top;\n",
              "    }\n",
              "\n",
              "    .dataframe thead th {\n",
              "        text-align: right;\n",
              "    }\n",
              "</style>\n",
              "<table border=\"1\" class=\"dataframe\">\n",
              "  <thead>\n",
              "    <tr style=\"text-align: right;\">\n",
              "      <th></th>\n",
              "      <th>quantidade_alunos</th>\n",
              "      <th>nome_do_curso</th>\n",
              "    </tr>\n",
              "    <tr>\n",
              "      <th>id_curso</th>\n",
              "      <th></th>\n",
              "      <th></th>\n",
              "    </tr>\n",
              "  </thead>\n",
              "  <tbody>\n",
              "    <tr>\n",
              "      <th>1</th>\n",
              "      <td>62</td>\n",
              "      <td>Lógica de programação</td>\n",
              "    </tr>\n",
              "    <tr>\n",
              "      <th>2</th>\n",
              "      <td>52</td>\n",
              "      <td>Java para Web</td>\n",
              "    </tr>\n",
              "    <tr>\n",
              "      <th>3</th>\n",
              "      <td>25</td>\n",
              "      <td>C# para Web</td>\n",
              "    </tr>\n",
              "  </tbody>\n",
              "</table>\n",
              "</div>"
            ],
            "text/plain": [
              "          quantidade_alunos          nome_do_curso\n",
              "id_curso                                          \n",
              "1                        62  Lógica de programação\n",
              "2                        52          Java para Web\n",
              "3                        25            C# para Web"
            ]
          },
          "metadata": {
            "tags": []
          },
          "execution_count": 47
        }
      ]
    },
    {
      "cell_type": "code",
      "metadata": {
        "id": "BswCoDy_Ladl",
        "colab_type": "code",
        "colab": {}
      },
      "source": [
        "#exportando para csv\n",
        "matriculas_por_cursos.to_csv('matriculas_por_curso.csv', index=False)"
      ],
      "execution_count": 48,
      "outputs": []
    },
    {
      "cell_type": "code",
      "metadata": {
        "id": "d_DDCwmcL-ks",
        "colab_type": "code",
        "colab": {
          "base_uri": "https://localhost:8080/",
          "height": 669
        },
        "outputId": "7b8b2e2d-5625-431e-8255-c1273a1aa9a6"
      },
      "source": [
        "#lendo o csv\n",
        "pd.read_csv('matriculas_por_curso.csv')"
      ],
      "execution_count": 49,
      "outputs": [
        {
          "output_type": "execute_result",
          "data": {
            "text/html": [
              "<div>\n",
              "<style scoped>\n",
              "    .dataframe tbody tr th:only-of-type {\n",
              "        vertical-align: middle;\n",
              "    }\n",
              "\n",
              "    .dataframe tbody tr th {\n",
              "        vertical-align: top;\n",
              "    }\n",
              "\n",
              "    .dataframe thead th {\n",
              "        text-align: right;\n",
              "    }\n",
              "</style>\n",
              "<table border=\"1\" class=\"dataframe\">\n",
              "  <thead>\n",
              "    <tr style=\"text-align: right;\">\n",
              "      <th></th>\n",
              "      <th>quantidade_alunos</th>\n",
              "      <th>nome_do_curso</th>\n",
              "    </tr>\n",
              "  </thead>\n",
              "  <tbody>\n",
              "    <tr>\n",
              "      <th>0</th>\n",
              "      <td>62</td>\n",
              "      <td>Lógica de programação</td>\n",
              "    </tr>\n",
              "    <tr>\n",
              "      <th>1</th>\n",
              "      <td>52</td>\n",
              "      <td>Java para Web</td>\n",
              "    </tr>\n",
              "    <tr>\n",
              "      <th>2</th>\n",
              "      <td>25</td>\n",
              "      <td>C# para Web</td>\n",
              "    </tr>\n",
              "    <tr>\n",
              "      <th>3</th>\n",
              "      <td>33</td>\n",
              "      <td>Ruby on Rails</td>\n",
              "    </tr>\n",
              "    <tr>\n",
              "      <th>4</th>\n",
              "      <td>59</td>\n",
              "      <td>Cursos de Python</td>\n",
              "    </tr>\n",
              "    <tr>\n",
              "      <th>5</th>\n",
              "      <td>17</td>\n",
              "      <td>PHP com MySql</td>\n",
              "    </tr>\n",
              "    <tr>\n",
              "      <th>6</th>\n",
              "      <td>56</td>\n",
              "      <td>.NET para web</td>\n",
              "    </tr>\n",
              "    <tr>\n",
              "      <th>7</th>\n",
              "      <td>37</td>\n",
              "      <td>Novas integrações com Java</td>\n",
              "    </tr>\n",
              "    <tr>\n",
              "      <th>8</th>\n",
              "      <td>70</td>\n",
              "      <td>TDD com Java</td>\n",
              "    </tr>\n",
              "    <tr>\n",
              "      <th>9</th>\n",
              "      <td>12</td>\n",
              "      <td>Código limpo com C#</td>\n",
              "    </tr>\n",
              "    <tr>\n",
              "      <th>10</th>\n",
              "      <td>81</td>\n",
              "      <td>Preparatório para certificação Java</td>\n",
              "    </tr>\n",
              "    <tr>\n",
              "      <th>11</th>\n",
              "      <td>22</td>\n",
              "      <td>Hardware básico</td>\n",
              "    </tr>\n",
              "    <tr>\n",
              "      <th>12</th>\n",
              "      <td>52</td>\n",
              "      <td>Persistência com .NET</td>\n",
              "    </tr>\n",
              "    <tr>\n",
              "      <th>13</th>\n",
              "      <td>31</td>\n",
              "      <td>Desenvolvendo jogos</td>\n",
              "    </tr>\n",
              "    <tr>\n",
              "      <th>14</th>\n",
              "      <td>82</td>\n",
              "      <td>Análise de dados</td>\n",
              "    </tr>\n",
              "    <tr>\n",
              "      <th>15</th>\n",
              "      <td>16</td>\n",
              "      <td>Estatística básica</td>\n",
              "    </tr>\n",
              "    <tr>\n",
              "      <th>16</th>\n",
              "      <td>44</td>\n",
              "      <td>Internet das coisas</td>\n",
              "    </tr>\n",
              "    <tr>\n",
              "      <th>17</th>\n",
              "      <td>23</td>\n",
              "      <td>Programação funcional</td>\n",
              "    </tr>\n",
              "    <tr>\n",
              "      <th>18</th>\n",
              "      <td>67</td>\n",
              "      <td>Boas práticas em Java</td>\n",
              "    </tr>\n",
              "    <tr>\n",
              "      <th>19</th>\n",
              "      <td>18</td>\n",
              "      <td>Orientação objetos com Java</td>\n",
              "    </tr>\n",
              "  </tbody>\n",
              "</table>\n",
              "</div>"
            ],
            "text/plain": [
              "    quantidade_alunos                        nome_do_curso\n",
              "0                  62                Lógica de programação\n",
              "1                  52                        Java para Web\n",
              "2                  25                          C# para Web\n",
              "3                  33                        Ruby on Rails\n",
              "4                  59                     Cursos de Python\n",
              "5                  17                        PHP com MySql\n",
              "6                  56                        .NET para web\n",
              "7                  37           Novas integrações com Java\n",
              "8                  70                         TDD com Java\n",
              "9                  12                  Código limpo com C#\n",
              "10                 81  Preparatório para certificação Java\n",
              "11                 22                      Hardware básico\n",
              "12                 52                Persistência com .NET\n",
              "13                 31                  Desenvolvendo jogos\n",
              "14                 82                     Análise de dados\n",
              "15                 16                   Estatística básica\n",
              "16                 44                  Internet das coisas\n",
              "17                 23                Programação funcional\n",
              "18                 67                Boas práticas em Java\n",
              "19                 18          Orientação objetos com Java"
            ]
          },
          "metadata": {
            "tags": []
          },
          "execution_count": 49
        }
      ]
    },
    {
      "cell_type": "code",
      "metadata": {
        "id": "fcNQjfXhMVnj",
        "colab_type": "code",
        "colab": {}
      },
      "source": [
        "#transformando csv para json\n",
        "matriculas_json = matriculas_por_cursos.to_json()"
      ],
      "execution_count": 50,
      "outputs": []
    },
    {
      "cell_type": "code",
      "metadata": {
        "id": "8zNEe1JRMuc7",
        "colab_type": "code",
        "colab": {
          "base_uri": "https://localhost:8080/",
          "height": 120
        },
        "outputId": "763ef66c-aa46-4e34-a692-317bfd7b0158"
      },
      "source": [
        "matriculas_json"
      ],
      "execution_count": 51,
      "outputs": [
        {
          "output_type": "execute_result",
          "data": {
            "application/vnd.google.colaboratory.intrinsic+json": {
              "type": "string"
            },
            "text/plain": [
              "'{\"quantidade_alunos\":{\"1\":62,\"2\":52,\"3\":25,\"4\":33,\"5\":59,\"6\":17,\"7\":56,\"8\":37,\"9\":70,\"10\":12,\"11\":81,\"12\":22,\"13\":52,\"14\":31,\"15\":82,\"16\":16,\"17\":44,\"18\":23,\"19\":67,\"20\":18},\"nome_do_curso\":{\"1\":\"L\\\\u00f3gica de programa\\\\u00e7\\\\u00e3o\",\"2\":\"Java para Web\",\"3\":\"C# para Web\",\"4\":\"Ruby on Rails\",\"5\":\"Cursos de Python\",\"6\":\"PHP com MySql\",\"7\":\".NET para web\",\"8\":\"Novas integra\\\\u00e7\\\\u00f5es com Java\",\"9\":\"TDD com Java\",\"10\":\"C\\\\u00f3digo limpo com C#\",\"11\":\"Preparat\\\\u00f3rio para certifica\\\\u00e7\\\\u00e3o Java\",\"12\":\"Hardware b\\\\u00e1sico\",\"13\":\"Persist\\\\u00eancia com .NET\",\"14\":\"Desenvolvendo jogos\",\"15\":\"An\\\\u00e1lise de dados\",\"16\":\"Estat\\\\u00edstica b\\\\u00e1sica\",\"17\":\"Internet das coisas\",\"18\":\"Programa\\\\u00e7\\\\u00e3o funcional\",\"19\":\"Boas pr\\\\u00e1ticas em Java\",\"20\":\"Orienta\\\\u00e7\\\\u00e3o objetos com Java\"}}'"
            ]
          },
          "metadata": {
            "tags": []
          },
          "execution_count": 51
        }
      ]
    },
    {
      "cell_type": "code",
      "metadata": {
        "id": "YSVnuulDMxkb",
        "colab_type": "code",
        "colab": {}
      },
      "source": [
        "#transformando csv para html\n",
        "matricula_html = matriculas_por_cursos.to_html()"
      ],
      "execution_count": 52,
      "outputs": []
    },
    {
      "cell_type": "code",
      "metadata": {
        "id": "pPDP2aEDNQRr",
        "colab_type": "code",
        "colab": {
          "base_uri": "https://localhost:8080/",
          "height": 1000
        },
        "outputId": "30a42c1c-94f7-4fe8-a1c1-3500067b6140"
      },
      "source": [
        "print(matricula_html)"
      ],
      "execution_count": 53,
      "outputs": [
        {
          "output_type": "stream",
          "text": [
            "<table border=\"1\" class=\"dataframe\">\n",
            "  <thead>\n",
            "    <tr style=\"text-align: right;\">\n",
            "      <th></th>\n",
            "      <th>quantidade_alunos</th>\n",
            "      <th>nome_do_curso</th>\n",
            "    </tr>\n",
            "    <tr>\n",
            "      <th>id_curso</th>\n",
            "      <th></th>\n",
            "      <th></th>\n",
            "    </tr>\n",
            "  </thead>\n",
            "  <tbody>\n",
            "    <tr>\n",
            "      <th>1</th>\n",
            "      <td>62</td>\n",
            "      <td>Lógica de programação</td>\n",
            "    </tr>\n",
            "    <tr>\n",
            "      <th>2</th>\n",
            "      <td>52</td>\n",
            "      <td>Java para Web</td>\n",
            "    </tr>\n",
            "    <tr>\n",
            "      <th>3</th>\n",
            "      <td>25</td>\n",
            "      <td>C# para Web</td>\n",
            "    </tr>\n",
            "    <tr>\n",
            "      <th>4</th>\n",
            "      <td>33</td>\n",
            "      <td>Ruby on Rails</td>\n",
            "    </tr>\n",
            "    <tr>\n",
            "      <th>5</th>\n",
            "      <td>59</td>\n",
            "      <td>Cursos de Python</td>\n",
            "    </tr>\n",
            "    <tr>\n",
            "      <th>6</th>\n",
            "      <td>17</td>\n",
            "      <td>PHP com MySql</td>\n",
            "    </tr>\n",
            "    <tr>\n",
            "      <th>7</th>\n",
            "      <td>56</td>\n",
            "      <td>.NET para web</td>\n",
            "    </tr>\n",
            "    <tr>\n",
            "      <th>8</th>\n",
            "      <td>37</td>\n",
            "      <td>Novas integrações com Java</td>\n",
            "    </tr>\n",
            "    <tr>\n",
            "      <th>9</th>\n",
            "      <td>70</td>\n",
            "      <td>TDD com Java</td>\n",
            "    </tr>\n",
            "    <tr>\n",
            "      <th>10</th>\n",
            "      <td>12</td>\n",
            "      <td>Código limpo com C#</td>\n",
            "    </tr>\n",
            "    <tr>\n",
            "      <th>11</th>\n",
            "      <td>81</td>\n",
            "      <td>Preparatório para certificação Java</td>\n",
            "    </tr>\n",
            "    <tr>\n",
            "      <th>12</th>\n",
            "      <td>22</td>\n",
            "      <td>Hardware básico</td>\n",
            "    </tr>\n",
            "    <tr>\n",
            "      <th>13</th>\n",
            "      <td>52</td>\n",
            "      <td>Persistência com .NET</td>\n",
            "    </tr>\n",
            "    <tr>\n",
            "      <th>14</th>\n",
            "      <td>31</td>\n",
            "      <td>Desenvolvendo jogos</td>\n",
            "    </tr>\n",
            "    <tr>\n",
            "      <th>15</th>\n",
            "      <td>82</td>\n",
            "      <td>Análise de dados</td>\n",
            "    </tr>\n",
            "    <tr>\n",
            "      <th>16</th>\n",
            "      <td>16</td>\n",
            "      <td>Estatística básica</td>\n",
            "    </tr>\n",
            "    <tr>\n",
            "      <th>17</th>\n",
            "      <td>44</td>\n",
            "      <td>Internet das coisas</td>\n",
            "    </tr>\n",
            "    <tr>\n",
            "      <th>18</th>\n",
            "      <td>23</td>\n",
            "      <td>Programação funcional</td>\n",
            "    </tr>\n",
            "    <tr>\n",
            "      <th>19</th>\n",
            "      <td>67</td>\n",
            "      <td>Boas práticas em Java</td>\n",
            "    </tr>\n",
            "    <tr>\n",
            "      <th>20</th>\n",
            "      <td>18</td>\n",
            "      <td>Orientação objetos com Java</td>\n",
            "    </tr>\n",
            "  </tbody>\n",
            "</table>\n"
          ],
          "name": "stdout"
        }
      ]
    },
    {
      "cell_type": "markdown",
      "metadata": {
        "id": "6JeC8ls7vSyG",
        "colab_type": "text"
      },
      "source": [
        "# Criando o banco de dados SQL"
      ]
    },
    {
      "cell_type": "code",
      "metadata": {
        "id": "z6HJR2Q5NRoT",
        "colab_type": "code",
        "colab": {
          "base_uri": "https://localhost:8080/",
          "height": 34
        },
        "outputId": "e5693b60-b7cc-4528-dc6c-45afe9d5d5dc"
      },
      "source": [
        "#instalando os pacotes de sql\n",
        "!pip install sqlalchemy"
      ],
      "execution_count": 54,
      "outputs": [
        {
          "output_type": "stream",
          "text": [
            "Requirement already satisfied: sqlalchemy in /usr/local/lib/python3.6/dist-packages (1.3.18)\n"
          ],
          "name": "stdout"
        }
      ]
    },
    {
      "cell_type": "code",
      "metadata": {
        "id": "S_8jVrXHwKRL",
        "colab_type": "code",
        "colab": {}
      },
      "source": [
        "#importando alguns modulos\n",
        "from sqlalchemy import create_engine, MetaData, Table"
      ],
      "execution_count": 55,
      "outputs": []
    },
    {
      "cell_type": "code",
      "metadata": {
        "id": "pUuE0enRwgsS",
        "colab_type": "code",
        "colab": {}
      },
      "source": [
        "#instanciando o objeto para o banco ser salvo na memória local\n",
        "engine = create_engine('sqlite:///:memory:')"
      ],
      "execution_count": 56,
      "outputs": []
    },
    {
      "cell_type": "code",
      "metadata": {
        "id": "taQExdllw8Tg",
        "colab_type": "code",
        "colab": {
          "base_uri": "https://localhost:8080/",
          "height": 34
        },
        "outputId": "253937e8-19d1-400c-b3f0-6ea396354933"
      },
      "source": [
        "engine"
      ],
      "execution_count": 57,
      "outputs": [
        {
          "output_type": "execute_result",
          "data": {
            "text/plain": [
              "Engine(sqlite:///:memory:)"
            ]
          },
          "metadata": {
            "tags": []
          },
          "execution_count": 57
        }
      ]
    },
    {
      "cell_type": "code",
      "metadata": {
        "id": "JEJ-5xTvw-6Q",
        "colab_type": "code",
        "colab": {
          "base_uri": "https://localhost:8080/",
          "height": 34
        },
        "outputId": "89290a83-1ff9-4137-e9cc-68db6470487d"
      },
      "source": [
        "#verificando o tipo do objeto\n",
        "type(engine)"
      ],
      "execution_count": 58,
      "outputs": [
        {
          "output_type": "execute_result",
          "data": {
            "text/plain": [
              "sqlalchemy.engine.base.Engine"
            ]
          },
          "metadata": {
            "tags": []
          },
          "execution_count": 58
        }
      ]
    },
    {
      "cell_type": "code",
      "metadata": {
        "id": "Ko7HYSi0xGtq",
        "colab_type": "code",
        "colab": {
          "base_uri": "https://localhost:8080/",
          "height": 235
        },
        "outputId": "35f6a4da-7e66-4134-b3d3-5c50ace016b8"
      },
      "source": [
        "#visualizando o df de matriculas por curso\n",
        "matriculas_por_cursos.head()"
      ],
      "execution_count": 59,
      "outputs": [
        {
          "output_type": "execute_result",
          "data": {
            "text/html": [
              "<div>\n",
              "<style scoped>\n",
              "    .dataframe tbody tr th:only-of-type {\n",
              "        vertical-align: middle;\n",
              "    }\n",
              "\n",
              "    .dataframe tbody tr th {\n",
              "        vertical-align: top;\n",
              "    }\n",
              "\n",
              "    .dataframe thead th {\n",
              "        text-align: right;\n",
              "    }\n",
              "</style>\n",
              "<table border=\"1\" class=\"dataframe\">\n",
              "  <thead>\n",
              "    <tr style=\"text-align: right;\">\n",
              "      <th></th>\n",
              "      <th>quantidade_alunos</th>\n",
              "      <th>nome_do_curso</th>\n",
              "    </tr>\n",
              "    <tr>\n",
              "      <th>id_curso</th>\n",
              "      <th></th>\n",
              "      <th></th>\n",
              "    </tr>\n",
              "  </thead>\n",
              "  <tbody>\n",
              "    <tr>\n",
              "      <th>1</th>\n",
              "      <td>62</td>\n",
              "      <td>Lógica de programação</td>\n",
              "    </tr>\n",
              "    <tr>\n",
              "      <th>2</th>\n",
              "      <td>52</td>\n",
              "      <td>Java para Web</td>\n",
              "    </tr>\n",
              "    <tr>\n",
              "      <th>3</th>\n",
              "      <td>25</td>\n",
              "      <td>C# para Web</td>\n",
              "    </tr>\n",
              "    <tr>\n",
              "      <th>4</th>\n",
              "      <td>33</td>\n",
              "      <td>Ruby on Rails</td>\n",
              "    </tr>\n",
              "    <tr>\n",
              "      <th>5</th>\n",
              "      <td>59</td>\n",
              "      <td>Cursos de Python</td>\n",
              "    </tr>\n",
              "  </tbody>\n",
              "</table>\n",
              "</div>"
            ],
            "text/plain": [
              "          quantidade_alunos          nome_do_curso\n",
              "id_curso                                          \n",
              "1                        62  Lógica de programação\n",
              "2                        52          Java para Web\n",
              "3                        25            C# para Web\n",
              "4                        33          Ruby on Rails\n",
              "5                        59       Cursos de Python"
            ]
          },
          "metadata": {
            "tags": []
          },
          "execution_count": 59
        }
      ]
    },
    {
      "cell_type": "code",
      "metadata": {
        "id": "MSFQw2WGxSdA",
        "colab_type": "code",
        "colab": {}
      },
      "source": [
        "#transformando em SQL\n",
        "matriculas_por_cursos.to_sql('matriculas', engine)"
      ],
      "execution_count": 60,
      "outputs": []
    },
    {
      "cell_type": "code",
      "metadata": {
        "id": "HJNw_mV3x2bv",
        "colab_type": "code",
        "colab": {
          "base_uri": "https://localhost:8080/",
          "height": 34
        },
        "outputId": "85d16354-03cb-48cf-c182-870b4edc8a57"
      },
      "source": [
        "#visualizando a tabela\n",
        "print(engine.table_names())"
      ],
      "execution_count": 62,
      "outputs": [
        {
          "output_type": "stream",
          "text": [
            "['matriculas']\n"
          ],
          "name": "stdout"
        }
      ]
    },
    {
      "cell_type": "markdown",
      "metadata": {
        "id": "TS-L-wqayTU2",
        "colab_type": "text"
      },
      "source": [
        "# Buscando do banco sql"
      ]
    },
    {
      "cell_type": "code",
      "metadata": {
        "id": "nG5hEV-Gx6qv",
        "colab_type": "code",
        "colab": {}
      },
      "source": [
        "#atribuindo a constulta aum variavel\n",
        "query = 'SELECT * FROM matriculas WHERE quantidade_alunos <= 20;'"
      ],
      "execution_count": 63,
      "outputs": []
    },
    {
      "cell_type": "code",
      "metadata": {
        "id": "MO8G_JOMy6co",
        "colab_type": "code",
        "colab": {
          "base_uri": "https://localhost:8080/",
          "height": 173
        },
        "outputId": "f9b54fd7-d14b-45be-aa43-3f7850b9415c"
      },
      "source": [
        "#instanciando o pandas para ler a consulta\n",
        "pd.read_sql(query, engine)"
      ],
      "execution_count": 64,
      "outputs": [
        {
          "output_type": "execute_result",
          "data": {
            "text/html": [
              "<div>\n",
              "<style scoped>\n",
              "    .dataframe tbody tr th:only-of-type {\n",
              "        vertical-align: middle;\n",
              "    }\n",
              "\n",
              "    .dataframe tbody tr th {\n",
              "        vertical-align: top;\n",
              "    }\n",
              "\n",
              "    .dataframe thead th {\n",
              "        text-align: right;\n",
              "    }\n",
              "</style>\n",
              "<table border=\"1\" class=\"dataframe\">\n",
              "  <thead>\n",
              "    <tr style=\"text-align: right;\">\n",
              "      <th></th>\n",
              "      <th>id_curso</th>\n",
              "      <th>quantidade_alunos</th>\n",
              "      <th>nome_do_curso</th>\n",
              "    </tr>\n",
              "  </thead>\n",
              "  <tbody>\n",
              "    <tr>\n",
              "      <th>0</th>\n",
              "      <td>6</td>\n",
              "      <td>17</td>\n",
              "      <td>PHP com MySql</td>\n",
              "    </tr>\n",
              "    <tr>\n",
              "      <th>1</th>\n",
              "      <td>10</td>\n",
              "      <td>12</td>\n",
              "      <td>Código limpo com C#</td>\n",
              "    </tr>\n",
              "    <tr>\n",
              "      <th>2</th>\n",
              "      <td>16</td>\n",
              "      <td>16</td>\n",
              "      <td>Estatística básica</td>\n",
              "    </tr>\n",
              "    <tr>\n",
              "      <th>3</th>\n",
              "      <td>20</td>\n",
              "      <td>18</td>\n",
              "      <td>Orientação objetos com Java</td>\n",
              "    </tr>\n",
              "  </tbody>\n",
              "</table>\n",
              "</div>"
            ],
            "text/plain": [
              "   id_curso  quantidade_alunos                nome_do_curso\n",
              "0         6                 17                PHP com MySql\n",
              "1        10                 12          Código limpo com C#\n",
              "2        16                 16           Estatística básica\n",
              "3        20                 18  Orientação objetos com Java"
            ]
          },
          "metadata": {
            "tags": []
          },
          "execution_count": 64
        }
      ]
    },
    {
      "cell_type": "code",
      "metadata": {
        "id": "LOEJoT27zJP1",
        "colab_type": "code",
        "colab": {
          "base_uri": "https://localhost:8080/",
          "height": 669
        },
        "outputId": "0d889c2e-049d-4965-a4eb-b623c7e188db"
      },
      "source": [
        "#instanciando o pandas para chamar a tabela\n",
        "pd.read_sql_table('matriculas', engine, columns=['nome_do_curso', 'quantidade_alunos'])"
      ],
      "execution_count": 65,
      "outputs": [
        {
          "output_type": "execute_result",
          "data": {
            "text/html": [
              "<div>\n",
              "<style scoped>\n",
              "    .dataframe tbody tr th:only-of-type {\n",
              "        vertical-align: middle;\n",
              "    }\n",
              "\n",
              "    .dataframe tbody tr th {\n",
              "        vertical-align: top;\n",
              "    }\n",
              "\n",
              "    .dataframe thead th {\n",
              "        text-align: right;\n",
              "    }\n",
              "</style>\n",
              "<table border=\"1\" class=\"dataframe\">\n",
              "  <thead>\n",
              "    <tr style=\"text-align: right;\">\n",
              "      <th></th>\n",
              "      <th>nome_do_curso</th>\n",
              "      <th>quantidade_alunos</th>\n",
              "    </tr>\n",
              "  </thead>\n",
              "  <tbody>\n",
              "    <tr>\n",
              "      <th>0</th>\n",
              "      <td>Lógica de programação</td>\n",
              "      <td>62</td>\n",
              "    </tr>\n",
              "    <tr>\n",
              "      <th>1</th>\n",
              "      <td>Java para Web</td>\n",
              "      <td>52</td>\n",
              "    </tr>\n",
              "    <tr>\n",
              "      <th>2</th>\n",
              "      <td>C# para Web</td>\n",
              "      <td>25</td>\n",
              "    </tr>\n",
              "    <tr>\n",
              "      <th>3</th>\n",
              "      <td>Ruby on Rails</td>\n",
              "      <td>33</td>\n",
              "    </tr>\n",
              "    <tr>\n",
              "      <th>4</th>\n",
              "      <td>Cursos de Python</td>\n",
              "      <td>59</td>\n",
              "    </tr>\n",
              "    <tr>\n",
              "      <th>5</th>\n",
              "      <td>PHP com MySql</td>\n",
              "      <td>17</td>\n",
              "    </tr>\n",
              "    <tr>\n",
              "      <th>6</th>\n",
              "      <td>.NET para web</td>\n",
              "      <td>56</td>\n",
              "    </tr>\n",
              "    <tr>\n",
              "      <th>7</th>\n",
              "      <td>Novas integrações com Java</td>\n",
              "      <td>37</td>\n",
              "    </tr>\n",
              "    <tr>\n",
              "      <th>8</th>\n",
              "      <td>TDD com Java</td>\n",
              "      <td>70</td>\n",
              "    </tr>\n",
              "    <tr>\n",
              "      <th>9</th>\n",
              "      <td>Código limpo com C#</td>\n",
              "      <td>12</td>\n",
              "    </tr>\n",
              "    <tr>\n",
              "      <th>10</th>\n",
              "      <td>Preparatório para certificação Java</td>\n",
              "      <td>81</td>\n",
              "    </tr>\n",
              "    <tr>\n",
              "      <th>11</th>\n",
              "      <td>Hardware básico</td>\n",
              "      <td>22</td>\n",
              "    </tr>\n",
              "    <tr>\n",
              "      <th>12</th>\n",
              "      <td>Persistência com .NET</td>\n",
              "      <td>52</td>\n",
              "    </tr>\n",
              "    <tr>\n",
              "      <th>13</th>\n",
              "      <td>Desenvolvendo jogos</td>\n",
              "      <td>31</td>\n",
              "    </tr>\n",
              "    <tr>\n",
              "      <th>14</th>\n",
              "      <td>Análise de dados</td>\n",
              "      <td>82</td>\n",
              "    </tr>\n",
              "    <tr>\n",
              "      <th>15</th>\n",
              "      <td>Estatística básica</td>\n",
              "      <td>16</td>\n",
              "    </tr>\n",
              "    <tr>\n",
              "      <th>16</th>\n",
              "      <td>Internet das coisas</td>\n",
              "      <td>44</td>\n",
              "    </tr>\n",
              "    <tr>\n",
              "      <th>17</th>\n",
              "      <td>Programação funcional</td>\n",
              "      <td>23</td>\n",
              "    </tr>\n",
              "    <tr>\n",
              "      <th>18</th>\n",
              "      <td>Boas práticas em Java</td>\n",
              "      <td>67</td>\n",
              "    </tr>\n",
              "    <tr>\n",
              "      <th>19</th>\n",
              "      <td>Orientação objetos com Java</td>\n",
              "      <td>18</td>\n",
              "    </tr>\n",
              "  </tbody>\n",
              "</table>\n",
              "</div>"
            ],
            "text/plain": [
              "                          nome_do_curso  quantidade_alunos\n",
              "0                 Lógica de programação                 62\n",
              "1                         Java para Web                 52\n",
              "2                           C# para Web                 25\n",
              "3                         Ruby on Rails                 33\n",
              "4                      Cursos de Python                 59\n",
              "5                         PHP com MySql                 17\n",
              "6                         .NET para web                 56\n",
              "7            Novas integrações com Java                 37\n",
              "8                          TDD com Java                 70\n",
              "9                   Código limpo com C#                 12\n",
              "10  Preparatório para certificação Java                 81\n",
              "11                      Hardware básico                 22\n",
              "12                Persistência com .NET                 52\n",
              "13                  Desenvolvendo jogos                 31\n",
              "14                     Análise de dados                 82\n",
              "15                   Estatística básica                 16\n",
              "16                  Internet das coisas                 44\n",
              "17                Programação funcional                 23\n",
              "18                Boas práticas em Java                 67\n",
              "19          Orientação objetos com Java                 18"
            ]
          },
          "metadata": {
            "tags": []
          },
          "execution_count": 65
        }
      ]
    },
    {
      "cell_type": "code",
      "metadata": {
        "id": "JOkbwOeez1kL",
        "colab_type": "code",
        "colab": {}
      },
      "source": [
        "#atribuindo a tabela em uma variavel\n",
        "muitas_matriculas = pd.read_sql_table('matriculas', engine, columns=['nome_do_curso', 'quantidade_alunos'])"
      ],
      "execution_count": 66,
      "outputs": []
    },
    {
      "cell_type": "code",
      "metadata": {
        "id": "6So76MsB0Xsc",
        "colab_type": "code",
        "colab": {}
      },
      "source": [
        "#realizando consulta\n",
        "muitas_matriculas = muitas_matriculas.query('quantidade_alunos > 70')"
      ],
      "execution_count": 70,
      "outputs": []
    },
    {
      "cell_type": "code",
      "metadata": {
        "id": "4vK0Ty5m0lz1",
        "colab_type": "code",
        "colab": {
          "base_uri": "https://localhost:8080/",
          "height": 111
        },
        "outputId": "20d8f88d-69ff-4f14-ab33-338c9eb5b209"
      },
      "source": [
        "muitas_matriculas"
      ],
      "execution_count": 71,
      "outputs": [
        {
          "output_type": "execute_result",
          "data": {
            "text/html": [
              "<div>\n",
              "<style scoped>\n",
              "    .dataframe tbody tr th:only-of-type {\n",
              "        vertical-align: middle;\n",
              "    }\n",
              "\n",
              "    .dataframe tbody tr th {\n",
              "        vertical-align: top;\n",
              "    }\n",
              "\n",
              "    .dataframe thead th {\n",
              "        text-align: right;\n",
              "    }\n",
              "</style>\n",
              "<table border=\"1\" class=\"dataframe\">\n",
              "  <thead>\n",
              "    <tr style=\"text-align: right;\">\n",
              "      <th></th>\n",
              "      <th>nome_do_curso</th>\n",
              "      <th>quantidade_alunos</th>\n",
              "    </tr>\n",
              "  </thead>\n",
              "  <tbody>\n",
              "    <tr>\n",
              "      <th>10</th>\n",
              "      <td>Preparatório para certificação Java</td>\n",
              "      <td>81</td>\n",
              "    </tr>\n",
              "    <tr>\n",
              "      <th>14</th>\n",
              "      <td>Análise de dados</td>\n",
              "      <td>82</td>\n",
              "    </tr>\n",
              "  </tbody>\n",
              "</table>\n",
              "</div>"
            ],
            "text/plain": [
              "                          nome_do_curso  quantidade_alunos\n",
              "10  Preparatório para certificação Java                 81\n",
              "14                     Análise de dados                 82"
            ]
          },
          "metadata": {
            "tags": []
          },
          "execution_count": 71
        }
      ]
    },
    {
      "cell_type": "markdown",
      "metadata": {
        "id": "FMH6dnx609vJ",
        "colab_type": "text"
      },
      "source": [
        "# Escrevendo no banco"
      ]
    },
    {
      "cell_type": "code",
      "metadata": {
        "id": "W7qhZABV00dz",
        "colab_type": "code",
        "colab": {
          "base_uri": "https://localhost:8080/",
          "height": 306
        },
        "outputId": "c60c8139-9e58-4b9a-eaed-dcc4627566eb"
      },
      "source": [
        "#criando uma tabela\n",
        "muitas_matriculas.to_sql('muitas matriculas', con=engine)"
      ],
      "execution_count": 73,
      "outputs": [
        {
          "output_type": "error",
          "ename": "ValueError",
          "evalue": "ignored",
          "traceback": [
            "\u001b[0;31m---------------------------------------------------------------------------\u001b[0m",
            "\u001b[0;31mValueError\u001b[0m                                Traceback (most recent call last)",
            "\u001b[0;32m<ipython-input-73-6a8dbd29a11c>\u001b[0m in \u001b[0;36m<module>\u001b[0;34m()\u001b[0m\n\u001b[0;32m----> 1\u001b[0;31m \u001b[0mmuitas_matriculas\u001b[0m\u001b[0;34m.\u001b[0m\u001b[0mto_sql\u001b[0m\u001b[0;34m(\u001b[0m\u001b[0;34m'muitas matriculas'\u001b[0m\u001b[0;34m,\u001b[0m \u001b[0mcon\u001b[0m\u001b[0;34m=\u001b[0m\u001b[0mengine\u001b[0m\u001b[0;34m)\u001b[0m\u001b[0;34m\u001b[0m\u001b[0;34m\u001b[0m\u001b[0m\n\u001b[0m",
            "\u001b[0;32m/usr/local/lib/python3.6/dist-packages/pandas/core/generic.py\u001b[0m in \u001b[0;36mto_sql\u001b[0;34m(self, name, con, schema, if_exists, index, index_label, chunksize, dtype, method)\u001b[0m\n\u001b[1;32m   2661\u001b[0m             \u001b[0mchunksize\u001b[0m\u001b[0;34m=\u001b[0m\u001b[0mchunksize\u001b[0m\u001b[0;34m,\u001b[0m\u001b[0;34m\u001b[0m\u001b[0;34m\u001b[0m\u001b[0m\n\u001b[1;32m   2662\u001b[0m             \u001b[0mdtype\u001b[0m\u001b[0;34m=\u001b[0m\u001b[0mdtype\u001b[0m\u001b[0;34m,\u001b[0m\u001b[0;34m\u001b[0m\u001b[0;34m\u001b[0m\u001b[0m\n\u001b[0;32m-> 2663\u001b[0;31m             \u001b[0mmethod\u001b[0m\u001b[0;34m=\u001b[0m\u001b[0mmethod\u001b[0m\u001b[0;34m,\u001b[0m\u001b[0;34m\u001b[0m\u001b[0;34m\u001b[0m\u001b[0m\n\u001b[0m\u001b[1;32m   2664\u001b[0m         )\n\u001b[1;32m   2665\u001b[0m \u001b[0;34m\u001b[0m\u001b[0m\n",
            "\u001b[0;32m/usr/local/lib/python3.6/dist-packages/pandas/io/sql.py\u001b[0m in \u001b[0;36mto_sql\u001b[0;34m(frame, name, con, schema, if_exists, index, index_label, chunksize, dtype, method)\u001b[0m\n\u001b[1;32m    519\u001b[0m         \u001b[0mchunksize\u001b[0m\u001b[0;34m=\u001b[0m\u001b[0mchunksize\u001b[0m\u001b[0;34m,\u001b[0m\u001b[0;34m\u001b[0m\u001b[0;34m\u001b[0m\u001b[0m\n\u001b[1;32m    520\u001b[0m         \u001b[0mdtype\u001b[0m\u001b[0;34m=\u001b[0m\u001b[0mdtype\u001b[0m\u001b[0;34m,\u001b[0m\u001b[0;34m\u001b[0m\u001b[0;34m\u001b[0m\u001b[0m\n\u001b[0;32m--> 521\u001b[0;31m         \u001b[0mmethod\u001b[0m\u001b[0;34m=\u001b[0m\u001b[0mmethod\u001b[0m\u001b[0;34m,\u001b[0m\u001b[0;34m\u001b[0m\u001b[0;34m\u001b[0m\u001b[0m\n\u001b[0m\u001b[1;32m    522\u001b[0m     )\n\u001b[1;32m    523\u001b[0m \u001b[0;34m\u001b[0m\u001b[0m\n",
            "\u001b[0;32m/usr/local/lib/python3.6/dist-packages/pandas/io/sql.py\u001b[0m in \u001b[0;36mto_sql\u001b[0;34m(self, frame, name, if_exists, index, index_label, schema, chunksize, dtype, method)\u001b[0m\n\u001b[1;32m   1314\u001b[0m             \u001b[0mdtype\u001b[0m\u001b[0;34m=\u001b[0m\u001b[0mdtype\u001b[0m\u001b[0;34m,\u001b[0m\u001b[0;34m\u001b[0m\u001b[0;34m\u001b[0m\u001b[0m\n\u001b[1;32m   1315\u001b[0m         )\n\u001b[0;32m-> 1316\u001b[0;31m         \u001b[0mtable\u001b[0m\u001b[0;34m.\u001b[0m\u001b[0mcreate\u001b[0m\u001b[0;34m(\u001b[0m\u001b[0;34m)\u001b[0m\u001b[0;34m\u001b[0m\u001b[0;34m\u001b[0m\u001b[0m\n\u001b[0m\u001b[1;32m   1317\u001b[0m         \u001b[0mtable\u001b[0m\u001b[0;34m.\u001b[0m\u001b[0minsert\u001b[0m\u001b[0;34m(\u001b[0m\u001b[0mchunksize\u001b[0m\u001b[0;34m,\u001b[0m \u001b[0mmethod\u001b[0m\u001b[0;34m=\u001b[0m\u001b[0mmethod\u001b[0m\u001b[0;34m)\u001b[0m\u001b[0;34m\u001b[0m\u001b[0;34m\u001b[0m\u001b[0m\n\u001b[1;32m   1318\u001b[0m         \u001b[0;32mif\u001b[0m \u001b[0;32mnot\u001b[0m \u001b[0mname\u001b[0m\u001b[0;34m.\u001b[0m\u001b[0misdigit\u001b[0m\u001b[0;34m(\u001b[0m\u001b[0;34m)\u001b[0m \u001b[0;32mand\u001b[0m \u001b[0;32mnot\u001b[0m \u001b[0mname\u001b[0m\u001b[0;34m.\u001b[0m\u001b[0mislower\u001b[0m\u001b[0;34m(\u001b[0m\u001b[0;34m)\u001b[0m\u001b[0;34m:\u001b[0m\u001b[0;34m\u001b[0m\u001b[0;34m\u001b[0m\u001b[0m\n",
            "\u001b[0;32m/usr/local/lib/python3.6/dist-packages/pandas/io/sql.py\u001b[0m in \u001b[0;36mcreate\u001b[0;34m(self)\u001b[0m\n\u001b[1;32m    644\u001b[0m         \u001b[0;32mif\u001b[0m \u001b[0mself\u001b[0m\u001b[0;34m.\u001b[0m\u001b[0mexists\u001b[0m\u001b[0;34m(\u001b[0m\u001b[0;34m)\u001b[0m\u001b[0;34m:\u001b[0m\u001b[0;34m\u001b[0m\u001b[0;34m\u001b[0m\u001b[0m\n\u001b[1;32m    645\u001b[0m             \u001b[0;32mif\u001b[0m \u001b[0mself\u001b[0m\u001b[0;34m.\u001b[0m\u001b[0mif_exists\u001b[0m \u001b[0;34m==\u001b[0m \u001b[0;34m\"fail\"\u001b[0m\u001b[0;34m:\u001b[0m\u001b[0;34m\u001b[0m\u001b[0;34m\u001b[0m\u001b[0m\n\u001b[0;32m--> 646\u001b[0;31m                 \u001b[0;32mraise\u001b[0m \u001b[0mValueError\u001b[0m\u001b[0;34m(\u001b[0m\u001b[0;34mf\"Table '{self.name}' already exists.\"\u001b[0m\u001b[0;34m)\u001b[0m\u001b[0;34m\u001b[0m\u001b[0;34m\u001b[0m\u001b[0m\n\u001b[0m\u001b[1;32m    647\u001b[0m             \u001b[0;32melif\u001b[0m \u001b[0mself\u001b[0m\u001b[0;34m.\u001b[0m\u001b[0mif_exists\u001b[0m \u001b[0;34m==\u001b[0m \u001b[0;34m\"replace\"\u001b[0m\u001b[0;34m:\u001b[0m\u001b[0;34m\u001b[0m\u001b[0;34m\u001b[0m\u001b[0m\n\u001b[1;32m    648\u001b[0m                 \u001b[0mself\u001b[0m\u001b[0;34m.\u001b[0m\u001b[0mpd_sql\u001b[0m\u001b[0;34m.\u001b[0m\u001b[0mdrop_table\u001b[0m\u001b[0;34m(\u001b[0m\u001b[0mself\u001b[0m\u001b[0;34m.\u001b[0m\u001b[0mname\u001b[0m\u001b[0;34m,\u001b[0m \u001b[0mself\u001b[0m\u001b[0;34m.\u001b[0m\u001b[0mschema\u001b[0m\u001b[0;34m)\u001b[0m\u001b[0;34m\u001b[0m\u001b[0;34m\u001b[0m\u001b[0m\n",
            "\u001b[0;31mValueError\u001b[0m: Table 'muitas matriculas' already exists."
          ]
        }
      ]
    },
    {
      "cell_type": "code",
      "metadata": {
        "id": "nypF2nNe1SjV",
        "colab_type": "code",
        "colab": {
          "base_uri": "https://localhost:8080/",
          "height": 34
        },
        "outputId": "755c0f6e-8087-4497-8021-f3afa4e8b1ad"
      },
      "source": [
        "#imprimindo a tabela\n",
        "print(engine.table_names())"
      ],
      "execution_count": 74,
      "outputs": [
        {
          "output_type": "stream",
          "text": [
            "['matriculas', 'muitas matriculas']\n"
          ],
          "name": "stdout"
        }
      ]
    },
    {
      "cell_type": "markdown",
      "metadata": {
        "id": "0s8uQBKZ2uUJ",
        "colab_type": "text"
      },
      "source": [
        "# Nomes dos alunos(as) da próxima turma"
      ]
    },
    {
      "cell_type": "code",
      "metadata": {
        "id": "3Br_sEJ21tma",
        "colab_type": "code",
        "colab": {
          "base_uri": "https://localhost:8080/",
          "height": 700
        },
        "outputId": "9100558f-e26e-400c-855e-2217579e1e6f"
      },
      "source": [
        "#visualizando o df\n",
        "matriculas_por_cursos.head( 20)"
      ],
      "execution_count": 76,
      "outputs": [
        {
          "output_type": "execute_result",
          "data": {
            "text/html": [
              "<div>\n",
              "<style scoped>\n",
              "    .dataframe tbody tr th:only-of-type {\n",
              "        vertical-align: middle;\n",
              "    }\n",
              "\n",
              "    .dataframe tbody tr th {\n",
              "        vertical-align: top;\n",
              "    }\n",
              "\n",
              "    .dataframe thead th {\n",
              "        text-align: right;\n",
              "    }\n",
              "</style>\n",
              "<table border=\"1\" class=\"dataframe\">\n",
              "  <thead>\n",
              "    <tr style=\"text-align: right;\">\n",
              "      <th></th>\n",
              "      <th>quantidade_alunos</th>\n",
              "      <th>nome_do_curso</th>\n",
              "    </tr>\n",
              "    <tr>\n",
              "      <th>id_curso</th>\n",
              "      <th></th>\n",
              "      <th></th>\n",
              "    </tr>\n",
              "  </thead>\n",
              "  <tbody>\n",
              "    <tr>\n",
              "      <th>1</th>\n",
              "      <td>62</td>\n",
              "      <td>Lógica de programação</td>\n",
              "    </tr>\n",
              "    <tr>\n",
              "      <th>2</th>\n",
              "      <td>52</td>\n",
              "      <td>Java para Web</td>\n",
              "    </tr>\n",
              "    <tr>\n",
              "      <th>3</th>\n",
              "      <td>25</td>\n",
              "      <td>C# para Web</td>\n",
              "    </tr>\n",
              "    <tr>\n",
              "      <th>4</th>\n",
              "      <td>33</td>\n",
              "      <td>Ruby on Rails</td>\n",
              "    </tr>\n",
              "    <tr>\n",
              "      <th>5</th>\n",
              "      <td>59</td>\n",
              "      <td>Cursos de Python</td>\n",
              "    </tr>\n",
              "    <tr>\n",
              "      <th>6</th>\n",
              "      <td>17</td>\n",
              "      <td>PHP com MySql</td>\n",
              "    </tr>\n",
              "    <tr>\n",
              "      <th>7</th>\n",
              "      <td>56</td>\n",
              "      <td>.NET para web</td>\n",
              "    </tr>\n",
              "    <tr>\n",
              "      <th>8</th>\n",
              "      <td>37</td>\n",
              "      <td>Novas integrações com Java</td>\n",
              "    </tr>\n",
              "    <tr>\n",
              "      <th>9</th>\n",
              "      <td>70</td>\n",
              "      <td>TDD com Java</td>\n",
              "    </tr>\n",
              "    <tr>\n",
              "      <th>10</th>\n",
              "      <td>12</td>\n",
              "      <td>Código limpo com C#</td>\n",
              "    </tr>\n",
              "    <tr>\n",
              "      <th>11</th>\n",
              "      <td>81</td>\n",
              "      <td>Preparatório para certificação Java</td>\n",
              "    </tr>\n",
              "    <tr>\n",
              "      <th>12</th>\n",
              "      <td>22</td>\n",
              "      <td>Hardware básico</td>\n",
              "    </tr>\n",
              "    <tr>\n",
              "      <th>13</th>\n",
              "      <td>52</td>\n",
              "      <td>Persistência com .NET</td>\n",
              "    </tr>\n",
              "    <tr>\n",
              "      <th>14</th>\n",
              "      <td>31</td>\n",
              "      <td>Desenvolvendo jogos</td>\n",
              "    </tr>\n",
              "    <tr>\n",
              "      <th>15</th>\n",
              "      <td>82</td>\n",
              "      <td>Análise de dados</td>\n",
              "    </tr>\n",
              "    <tr>\n",
              "      <th>16</th>\n",
              "      <td>16</td>\n",
              "      <td>Estatística básica</td>\n",
              "    </tr>\n",
              "    <tr>\n",
              "      <th>17</th>\n",
              "      <td>44</td>\n",
              "      <td>Internet das coisas</td>\n",
              "    </tr>\n",
              "    <tr>\n",
              "      <th>18</th>\n",
              "      <td>23</td>\n",
              "      <td>Programação funcional</td>\n",
              "    </tr>\n",
              "    <tr>\n",
              "      <th>19</th>\n",
              "      <td>67</td>\n",
              "      <td>Boas práticas em Java</td>\n",
              "    </tr>\n",
              "    <tr>\n",
              "      <th>20</th>\n",
              "      <td>18</td>\n",
              "      <td>Orientação objetos com Java</td>\n",
              "    </tr>\n",
              "  </tbody>\n",
              "</table>\n",
              "</div>"
            ],
            "text/plain": [
              "          quantidade_alunos                        nome_do_curso\n",
              "id_curso                                                        \n",
              "1                        62                Lógica de programação\n",
              "2                        52                        Java para Web\n",
              "3                        25                          C# para Web\n",
              "4                        33                        Ruby on Rails\n",
              "5                        59                     Cursos de Python\n",
              "6                        17                        PHP com MySql\n",
              "7                        56                        .NET para web\n",
              "8                        37           Novas integrações com Java\n",
              "9                        70                         TDD com Java\n",
              "10                       12                  Código limpo com C#\n",
              "11                       81  Preparatório para certificação Java\n",
              "12                       22                      Hardware básico\n",
              "13                       52                Persistência com .NET\n",
              "14                       31                  Desenvolvendo jogos\n",
              "15                       82                     Análise de dados\n",
              "16                       16                   Estatística básica\n",
              "17                       44                  Internet das coisas\n",
              "18                       23                Programação funcional\n",
              "19                       67                Boas práticas em Java\n",
              "20                       18          Orientação objetos com Java"
            ]
          },
          "metadata": {
            "tags": []
          },
          "execution_count": 76
        }
      ]
    },
    {
      "cell_type": "code",
      "metadata": {
        "id": "eEWiH62H3GZ1",
        "colab_type": "code",
        "colab": {
          "base_uri": "https://localhost:8080/",
          "height": 419
        },
        "outputId": "dff71a46-d623-4405-a700-c4d017269de1"
      },
      "source": [
        "#visualizando as matriculas\n",
        "matriculas"
      ],
      "execution_count": 77,
      "outputs": [
        {
          "output_type": "execute_result",
          "data": {
            "text/html": [
              "<div>\n",
              "<style scoped>\n",
              "    .dataframe tbody tr th:only-of-type {\n",
              "        vertical-align: middle;\n",
              "    }\n",
              "\n",
              "    .dataframe tbody tr th {\n",
              "        vertical-align: top;\n",
              "    }\n",
              "\n",
              "    .dataframe thead th {\n",
              "        text-align: right;\n",
              "    }\n",
              "</style>\n",
              "<table border=\"1\" class=\"dataframe\">\n",
              "  <thead>\n",
              "    <tr style=\"text-align: right;\">\n",
              "      <th></th>\n",
              "      <th>id_aluno</th>\n",
              "      <th>id_curso</th>\n",
              "    </tr>\n",
              "  </thead>\n",
              "  <tbody>\n",
              "    <tr>\n",
              "      <th>0</th>\n",
              "      <td>235</td>\n",
              "      <td>19</td>\n",
              "    </tr>\n",
              "    <tr>\n",
              "      <th>1</th>\n",
              "      <td>235</td>\n",
              "      <td>19</td>\n",
              "    </tr>\n",
              "    <tr>\n",
              "      <th>2</th>\n",
              "      <td>43</td>\n",
              "      <td>9</td>\n",
              "    </tr>\n",
              "    <tr>\n",
              "      <th>3</th>\n",
              "      <td>43</td>\n",
              "      <td>1</td>\n",
              "    </tr>\n",
              "    <tr>\n",
              "      <th>4</th>\n",
              "      <td>43</td>\n",
              "      <td>19</td>\n",
              "    </tr>\n",
              "    <tr>\n",
              "      <th>...</th>\n",
              "      <td>...</td>\n",
              "      <td>...</td>\n",
              "    </tr>\n",
              "    <tr>\n",
              "      <th>854</th>\n",
              "      <td>383</td>\n",
              "      <td>19</td>\n",
              "    </tr>\n",
              "    <tr>\n",
              "      <th>855</th>\n",
              "      <td>366</td>\n",
              "      <td>2</td>\n",
              "    </tr>\n",
              "    <tr>\n",
              "      <th>856</th>\n",
              "      <td>366</td>\n",
              "      <td>15</td>\n",
              "    </tr>\n",
              "    <tr>\n",
              "      <th>857</th>\n",
              "      <td>366</td>\n",
              "      <td>6</td>\n",
              "    </tr>\n",
              "    <tr>\n",
              "      <th>858</th>\n",
              "      <td>366</td>\n",
              "      <td>15</td>\n",
              "    </tr>\n",
              "  </tbody>\n",
              "</table>\n",
              "<p>859 rows × 2 columns</p>\n",
              "</div>"
            ],
            "text/plain": [
              "     id_aluno  id_curso\n",
              "0         235        19\n",
              "1         235        19\n",
              "2          43         9\n",
              "3          43         1\n",
              "4          43        19\n",
              "..        ...       ...\n",
              "854       383        19\n",
              "855       366         2\n",
              "856       366        15\n",
              "857       366         6\n",
              "858       366        15\n",
              "\n",
              "[859 rows x 2 columns]"
            ]
          },
          "metadata": {
            "tags": []
          },
          "execution_count": 77
        }
      ]
    },
    {
      "cell_type": "code",
      "metadata": {
        "id": "sy8w5gAW3qxg",
        "colab_type": "code",
        "colab": {
          "base_uri": "https://localhost:8080/",
          "height": 545
        },
        "outputId": "437a1c6c-3e6d-41de-c633-d5862683d938"
      },
      "source": [
        "#matricula de curso pesquisada é o 16\n",
        "id_curso = 16\n",
        "#adicionando todos que tenham 16 na matricula\n",
        "proxima_turma = matriculas.query(\"id_curso == {}\".format(id_curso))\n",
        "#visualizando a turma\n",
        "proxima_turma"
      ],
      "execution_count": 79,
      "outputs": [
        {
          "output_type": "execute_result",
          "data": {
            "text/html": [
              "<div>\n",
              "<style scoped>\n",
              "    .dataframe tbody tr th:only-of-type {\n",
              "        vertical-align: middle;\n",
              "    }\n",
              "\n",
              "    .dataframe tbody tr th {\n",
              "        vertical-align: top;\n",
              "    }\n",
              "\n",
              "    .dataframe thead th {\n",
              "        text-align: right;\n",
              "    }\n",
              "</style>\n",
              "<table border=\"1\" class=\"dataframe\">\n",
              "  <thead>\n",
              "    <tr style=\"text-align: right;\">\n",
              "      <th></th>\n",
              "      <th>id_aluno</th>\n",
              "      <th>id_curso</th>\n",
              "    </tr>\n",
              "  </thead>\n",
              "  <tbody>\n",
              "    <tr>\n",
              "      <th>95</th>\n",
              "      <td>259</td>\n",
              "      <td>16</td>\n",
              "    </tr>\n",
              "    <tr>\n",
              "      <th>155</th>\n",
              "      <td>151</td>\n",
              "      <td>16</td>\n",
              "    </tr>\n",
              "    <tr>\n",
              "      <th>176</th>\n",
              "      <td>179</td>\n",
              "      <td>16</td>\n",
              "    </tr>\n",
              "    <tr>\n",
              "      <th>178</th>\n",
              "      <td>179</td>\n",
              "      <td>16</td>\n",
              "    </tr>\n",
              "    <tr>\n",
              "      <th>334</th>\n",
              "      <td>368</td>\n",
              "      <td>16</td>\n",
              "    </tr>\n",
              "    <tr>\n",
              "      <th>354</th>\n",
              "      <td>202</td>\n",
              "      <td>16</td>\n",
              "    </tr>\n",
              "    <tr>\n",
              "      <th>416</th>\n",
              "      <td>389</td>\n",
              "      <td>16</td>\n",
              "    </tr>\n",
              "    <tr>\n",
              "      <th>424</th>\n",
              "      <td>319</td>\n",
              "      <td>16</td>\n",
              "    </tr>\n",
              "    <tr>\n",
              "      <th>720</th>\n",
              "      <td>184</td>\n",
              "      <td>16</td>\n",
              "    </tr>\n",
              "    <tr>\n",
              "      <th>742</th>\n",
              "      <td>378</td>\n",
              "      <td>16</td>\n",
              "    </tr>\n",
              "    <tr>\n",
              "      <th>747</th>\n",
              "      <td>147</td>\n",
              "      <td>16</td>\n",
              "    </tr>\n",
              "    <tr>\n",
              "      <th>748</th>\n",
              "      <td>206</td>\n",
              "      <td>16</td>\n",
              "    </tr>\n",
              "    <tr>\n",
              "      <th>779</th>\n",
              "      <td>214</td>\n",
              "      <td>16</td>\n",
              "    </tr>\n",
              "    <tr>\n",
              "      <th>787</th>\n",
              "      <td>359</td>\n",
              "      <td>16</td>\n",
              "    </tr>\n",
              "    <tr>\n",
              "      <th>792</th>\n",
              "      <td>362</td>\n",
              "      <td>16</td>\n",
              "    </tr>\n",
              "    <tr>\n",
              "      <th>804</th>\n",
              "      <td>398</td>\n",
              "      <td>16</td>\n",
              "    </tr>\n",
              "  </tbody>\n",
              "</table>\n",
              "</div>"
            ],
            "text/plain": [
              "     id_aluno  id_curso\n",
              "95        259        16\n",
              "155       151        16\n",
              "176       179        16\n",
              "178       179        16\n",
              "334       368        16\n",
              "354       202        16\n",
              "416       389        16\n",
              "424       319        16\n",
              "720       184        16\n",
              "742       378        16\n",
              "747       147        16\n",
              "748       206        16\n",
              "779       214        16\n",
              "787       359        16\n",
              "792       362        16\n",
              "804       398        16"
            ]
          },
          "metadata": {
            "tags": []
          },
          "execution_count": 79
        }
      ]
    },
    {
      "cell_type": "code",
      "metadata": {
        "id": "vmSJC7Sh4sO_",
        "colab_type": "code",
        "colab": {
          "base_uri": "https://localhost:8080/",
          "height": 142
        },
        "outputId": "59e2533d-a1e2-41bf-cca5-b77ca31f4f4e"
      },
      "source": [
        "#visualizando os nomes\n",
        "nomes.sample(3)"
      ],
      "execution_count": 80,
      "outputs": [
        {
          "output_type": "execute_result",
          "data": {
            "text/html": [
              "<div>\n",
              "<style scoped>\n",
              "    .dataframe tbody tr th:only-of-type {\n",
              "        vertical-align: middle;\n",
              "    }\n",
              "\n",
              "    .dataframe tbody tr th {\n",
              "        vertical-align: top;\n",
              "    }\n",
              "\n",
              "    .dataframe thead th {\n",
              "        text-align: right;\n",
              "    }\n",
              "</style>\n",
              "<table border=\"1\" class=\"dataframe\">\n",
              "  <thead>\n",
              "    <tr style=\"text-align: right;\">\n",
              "      <th></th>\n",
              "      <th>nome</th>\n",
              "      <th>id_aluno</th>\n",
              "      <th>dominio</th>\n",
              "      <th>email</th>\n",
              "      <th>matriculas</th>\n",
              "    </tr>\n",
              "  </thead>\n",
              "  <tbody>\n",
              "    <tr>\n",
              "      <th>188</th>\n",
              "      <td>POLIANA</td>\n",
              "      <td>369</td>\n",
              "      <td>@servicosdoemail.com</td>\n",
              "      <td>poliana@servicosdoemail.com</td>\n",
              "      <td>2</td>\n",
              "    </tr>\n",
              "    <tr>\n",
              "      <th>12</th>\n",
              "      <td>AMANDA</td>\n",
              "      <td>217</td>\n",
              "      <td>@servicosdoemail.com</td>\n",
              "      <td>amanda@servicosdoemail.com</td>\n",
              "      <td>1</td>\n",
              "    </tr>\n",
              "    <tr>\n",
              "      <th>185</th>\n",
              "      <td>SHEILA</td>\n",
              "      <td>116</td>\n",
              "      <td>@dominiodoemail.com.br</td>\n",
              "      <td>sheila@dominiodoemail.com.br</td>\n",
              "      <td>1</td>\n",
              "    </tr>\n",
              "  </tbody>\n",
              "</table>\n",
              "</div>"
            ],
            "text/plain": [
              "        nome  id_aluno  ...                         email matriculas\n",
              "188  POLIANA       369  ...   poliana@servicosdoemail.com          2\n",
              "12    AMANDA       217  ...    amanda@servicosdoemail.com          1\n",
              "185   SHEILA       116  ...  sheila@dominiodoemail.com.br          1\n",
              "\n",
              "[3 rows x 5 columns]"
            ]
          },
          "metadata": {
            "tags": []
          },
          "execution_count": 80
        }
      ]
    },
    {
      "cell_type": "code",
      "metadata": {
        "id": "vq5x6i6A5Clu",
        "colab_type": "code",
        "colab": {
          "base_uri": "https://localhost:8080/",
          "height": 576
        },
        "outputId": "d3764491-8c2f-49f3-f658-e7e820c3c77e"
      },
      "source": [
        "#fazendo joins do id_aluno e nome\n",
        "proxima_turma.set_index('id_aluno').join(nomes.set_index('id_aluno'))"
      ],
      "execution_count": 81,
      "outputs": [
        {
          "output_type": "execute_result",
          "data": {
            "text/html": [
              "<div>\n",
              "<style scoped>\n",
              "    .dataframe tbody tr th:only-of-type {\n",
              "        vertical-align: middle;\n",
              "    }\n",
              "\n",
              "    .dataframe tbody tr th {\n",
              "        vertical-align: top;\n",
              "    }\n",
              "\n",
              "    .dataframe thead th {\n",
              "        text-align: right;\n",
              "    }\n",
              "</style>\n",
              "<table border=\"1\" class=\"dataframe\">\n",
              "  <thead>\n",
              "    <tr style=\"text-align: right;\">\n",
              "      <th></th>\n",
              "      <th>id_curso</th>\n",
              "      <th>nome</th>\n",
              "      <th>dominio</th>\n",
              "      <th>email</th>\n",
              "      <th>matriculas</th>\n",
              "    </tr>\n",
              "    <tr>\n",
              "      <th>id_aluno</th>\n",
              "      <th></th>\n",
              "      <th></th>\n",
              "      <th></th>\n",
              "      <th></th>\n",
              "      <th></th>\n",
              "    </tr>\n",
              "  </thead>\n",
              "  <tbody>\n",
              "    <tr>\n",
              "      <th>147</th>\n",
              "      <td>16</td>\n",
              "      <td>VINICIOS</td>\n",
              "      <td>@servicosdoemail.com</td>\n",
              "      <td>vinicios@servicosdoemail.com</td>\n",
              "      <td>3</td>\n",
              "    </tr>\n",
              "    <tr>\n",
              "      <th>151</th>\n",
              "      <td>16</td>\n",
              "      <td>TEREZA</td>\n",
              "      <td>@servicosdoemail.com</td>\n",
              "      <td>tereza@servicosdoemail.com</td>\n",
              "      <td>1</td>\n",
              "    </tr>\n",
              "    <tr>\n",
              "      <th>179</th>\n",
              "      <td>16</td>\n",
              "      <td>TAIS</td>\n",
              "      <td>@dominiodoemail.com.br</td>\n",
              "      <td>tais@dominiodoemail.com.br</td>\n",
              "      <td>4</td>\n",
              "    </tr>\n",
              "    <tr>\n",
              "      <th>179</th>\n",
              "      <td>16</td>\n",
              "      <td>TAIS</td>\n",
              "      <td>@dominiodoemail.com.br</td>\n",
              "      <td>tais@dominiodoemail.com.br</td>\n",
              "      <td>4</td>\n",
              "    </tr>\n",
              "    <tr>\n",
              "      <th>184</th>\n",
              "      <td>16</td>\n",
              "      <td>JUNIOR</td>\n",
              "      <td>@dominiodoemail.com.br</td>\n",
              "      <td>junior@dominiodoemail.com.br</td>\n",
              "      <td>3</td>\n",
              "    </tr>\n",
              "    <tr>\n",
              "      <th>202</th>\n",
              "      <td>16</td>\n",
              "      <td>ESTER</td>\n",
              "      <td>@servicosdoemail.com</td>\n",
              "      <td>ester@servicosdoemail.com</td>\n",
              "      <td>8</td>\n",
              "    </tr>\n",
              "    <tr>\n",
              "      <th>206</th>\n",
              "      <td>16</td>\n",
              "      <td>ITALO</td>\n",
              "      <td>@dominiodoemail.com.br</td>\n",
              "      <td>italo@dominiodoemail.com.br</td>\n",
              "      <td>1</td>\n",
              "    </tr>\n",
              "    <tr>\n",
              "      <th>214</th>\n",
              "      <td>16</td>\n",
              "      <td>JAIME</td>\n",
              "      <td>@servicosdoemail.com</td>\n",
              "      <td>jaime@servicosdoemail.com</td>\n",
              "      <td>5</td>\n",
              "    </tr>\n",
              "    <tr>\n",
              "      <th>259</th>\n",
              "      <td>16</td>\n",
              "      <td>RAIMUNDA</td>\n",
              "      <td>@servicosdoemail.com</td>\n",
              "      <td>raimunda@servicosdoemail.com</td>\n",
              "      <td>1</td>\n",
              "    </tr>\n",
              "    <tr>\n",
              "      <th>319</th>\n",
              "      <td>16</td>\n",
              "      <td>INES</td>\n",
              "      <td>@servicosdoemail.com</td>\n",
              "      <td>ines@servicosdoemail.com</td>\n",
              "      <td>4</td>\n",
              "    </tr>\n",
              "    <tr>\n",
              "      <th>359</th>\n",
              "      <td>16</td>\n",
              "      <td>ARNALDO</td>\n",
              "      <td>@servicosdoemail.com</td>\n",
              "      <td>arnaldo@servicosdoemail.com</td>\n",
              "      <td>5</td>\n",
              "    </tr>\n",
              "    <tr>\n",
              "      <th>362</th>\n",
              "      <td>16</td>\n",
              "      <td>NIVALDO</td>\n",
              "      <td>@servicosdoemail.com</td>\n",
              "      <td>nivaldo@servicosdoemail.com</td>\n",
              "      <td>2</td>\n",
              "    </tr>\n",
              "    <tr>\n",
              "      <th>368</th>\n",
              "      <td>16</td>\n",
              "      <td>CLEIDE</td>\n",
              "      <td>@servicosdoemail.com</td>\n",
              "      <td>cleide@servicosdoemail.com</td>\n",
              "      <td>2</td>\n",
              "    </tr>\n",
              "    <tr>\n",
              "      <th>378</th>\n",
              "      <td>16</td>\n",
              "      <td>HUGO</td>\n",
              "      <td>@servicosdoemail.com</td>\n",
              "      <td>hugo@servicosdoemail.com</td>\n",
              "      <td>1</td>\n",
              "    </tr>\n",
              "    <tr>\n",
              "      <th>389</th>\n",
              "      <td>16</td>\n",
              "      <td>LIDIANE</td>\n",
              "      <td>@servicosdoemail.com</td>\n",
              "      <td>lidiane@servicosdoemail.com</td>\n",
              "      <td>2</td>\n",
              "    </tr>\n",
              "    <tr>\n",
              "      <th>398</th>\n",
              "      <td>16</td>\n",
              "      <td>CRISTIAN</td>\n",
              "      <td>@servicosdoemail.com</td>\n",
              "      <td>cristian@servicosdoemail.com</td>\n",
              "      <td>3</td>\n",
              "    </tr>\n",
              "  </tbody>\n",
              "</table>\n",
              "</div>"
            ],
            "text/plain": [
              "          id_curso      nome  ...                         email matriculas\n",
              "id_aluno                      ...                                         \n",
              "147             16  VINICIOS  ...  vinicios@servicosdoemail.com          3\n",
              "151             16    TEREZA  ...    tereza@servicosdoemail.com          1\n",
              "179             16      TAIS  ...    tais@dominiodoemail.com.br          4\n",
              "179             16      TAIS  ...    tais@dominiodoemail.com.br          4\n",
              "184             16    JUNIOR  ...  junior@dominiodoemail.com.br          3\n",
              "202             16     ESTER  ...     ester@servicosdoemail.com          8\n",
              "206             16     ITALO  ...   italo@dominiodoemail.com.br          1\n",
              "214             16     JAIME  ...     jaime@servicosdoemail.com          5\n",
              "259             16  RAIMUNDA  ...  raimunda@servicosdoemail.com          1\n",
              "319             16      INES  ...      ines@servicosdoemail.com          4\n",
              "359             16   ARNALDO  ...   arnaldo@servicosdoemail.com          5\n",
              "362             16   NIVALDO  ...   nivaldo@servicosdoemail.com          2\n",
              "368             16    CLEIDE  ...    cleide@servicosdoemail.com          2\n",
              "378             16      HUGO  ...      hugo@servicosdoemail.com          1\n",
              "389             16   LIDIANE  ...   lidiane@servicosdoemail.com          2\n",
              "398             16  CRISTIAN  ...  cristian@servicosdoemail.com          3\n",
              "\n",
              "[16 rows x 5 columns]"
            ]
          },
          "metadata": {
            "tags": []
          },
          "execution_count": 81
        }
      ]
    },
    {
      "cell_type": "code",
      "metadata": {
        "id": "h7zbZyGI5pm1",
        "colab_type": "code",
        "colab": {
          "base_uri": "https://localhost:8080/",
          "height": 323
        },
        "outputId": "7eab2d54-f8f7-4673-bec7-40dcdd152ad7"
      },
      "source": [
        "#fazendo joins do id_aluno e nome e trazendo so os nomes\n",
        "proxima_turma.set_index('id_aluno').join(nomes.set_index('id_aluno'))['nome']"
      ],
      "execution_count": 83,
      "outputs": [
        {
          "output_type": "execute_result",
          "data": {
            "text/plain": [
              "id_aluno\n",
              "147    VINICIOS\n",
              "151      TEREZA\n",
              "179        TAIS\n",
              "179        TAIS\n",
              "184      JUNIOR\n",
              "202       ESTER\n",
              "206       ITALO\n",
              "214       JAIME\n",
              "259    RAIMUNDA\n",
              "319        INES\n",
              "359     ARNALDO\n",
              "362     NIVALDO\n",
              "368      CLEIDE\n",
              "378        HUGO\n",
              "389     LIDIANE\n",
              "398    CRISTIAN\n",
              "Name: nome, dtype: object"
            ]
          },
          "metadata": {
            "tags": []
          },
          "execution_count": 83
        }
      ]
    },
    {
      "cell_type": "code",
      "metadata": {
        "id": "zmntpOKM57Wk",
        "colab_type": "code",
        "colab": {
          "base_uri": "https://localhost:8080/",
          "height": 576
        },
        "outputId": "838a2e06-93df-408d-d858-aa42a3da22d5"
      },
      "source": [
        "#fazendo joins do id_aluno e nome e trazendo so os nomes, transformando em DF\n",
        "proxima_turma.set_index('id_aluno').join(nomes.set_index('id_aluno'))['nome'].to_frame()"
      ],
      "execution_count": 84,
      "outputs": [
        {
          "output_type": "execute_result",
          "data": {
            "text/html": [
              "<div>\n",
              "<style scoped>\n",
              "    .dataframe tbody tr th:only-of-type {\n",
              "        vertical-align: middle;\n",
              "    }\n",
              "\n",
              "    .dataframe tbody tr th {\n",
              "        vertical-align: top;\n",
              "    }\n",
              "\n",
              "    .dataframe thead th {\n",
              "        text-align: right;\n",
              "    }\n",
              "</style>\n",
              "<table border=\"1\" class=\"dataframe\">\n",
              "  <thead>\n",
              "    <tr style=\"text-align: right;\">\n",
              "      <th></th>\n",
              "      <th>nome</th>\n",
              "    </tr>\n",
              "    <tr>\n",
              "      <th>id_aluno</th>\n",
              "      <th></th>\n",
              "    </tr>\n",
              "  </thead>\n",
              "  <tbody>\n",
              "    <tr>\n",
              "      <th>147</th>\n",
              "      <td>VINICIOS</td>\n",
              "    </tr>\n",
              "    <tr>\n",
              "      <th>151</th>\n",
              "      <td>TEREZA</td>\n",
              "    </tr>\n",
              "    <tr>\n",
              "      <th>179</th>\n",
              "      <td>TAIS</td>\n",
              "    </tr>\n",
              "    <tr>\n",
              "      <th>179</th>\n",
              "      <td>TAIS</td>\n",
              "    </tr>\n",
              "    <tr>\n",
              "      <th>184</th>\n",
              "      <td>JUNIOR</td>\n",
              "    </tr>\n",
              "    <tr>\n",
              "      <th>202</th>\n",
              "      <td>ESTER</td>\n",
              "    </tr>\n",
              "    <tr>\n",
              "      <th>206</th>\n",
              "      <td>ITALO</td>\n",
              "    </tr>\n",
              "    <tr>\n",
              "      <th>214</th>\n",
              "      <td>JAIME</td>\n",
              "    </tr>\n",
              "    <tr>\n",
              "      <th>259</th>\n",
              "      <td>RAIMUNDA</td>\n",
              "    </tr>\n",
              "    <tr>\n",
              "      <th>319</th>\n",
              "      <td>INES</td>\n",
              "    </tr>\n",
              "    <tr>\n",
              "      <th>359</th>\n",
              "      <td>ARNALDO</td>\n",
              "    </tr>\n",
              "    <tr>\n",
              "      <th>362</th>\n",
              "      <td>NIVALDO</td>\n",
              "    </tr>\n",
              "    <tr>\n",
              "      <th>368</th>\n",
              "      <td>CLEIDE</td>\n",
              "    </tr>\n",
              "    <tr>\n",
              "      <th>378</th>\n",
              "      <td>HUGO</td>\n",
              "    </tr>\n",
              "    <tr>\n",
              "      <th>389</th>\n",
              "      <td>LIDIANE</td>\n",
              "    </tr>\n",
              "    <tr>\n",
              "      <th>398</th>\n",
              "      <td>CRISTIAN</td>\n",
              "    </tr>\n",
              "  </tbody>\n",
              "</table>\n",
              "</div>"
            ],
            "text/plain": [
              "              nome\n",
              "id_aluno          \n",
              "147       VINICIOS\n",
              "151         TEREZA\n",
              "179           TAIS\n",
              "179           TAIS\n",
              "184         JUNIOR\n",
              "202          ESTER\n",
              "206          ITALO\n",
              "214          JAIME\n",
              "259       RAIMUNDA\n",
              "319           INES\n",
              "359        ARNALDO\n",
              "362        NIVALDO\n",
              "368         CLEIDE\n",
              "378           HUGO\n",
              "389        LIDIANE\n",
              "398       CRISTIAN"
            ]
          },
          "metadata": {
            "tags": []
          },
          "execution_count": 84
        }
      ]
    },
    {
      "cell_type": "code",
      "metadata": {
        "id": "8SAUWJgL6M69",
        "colab_type": "code",
        "colab": {
          "base_uri": "https://localhost:8080/",
          "height": 51
        },
        "outputId": "b51561c4-0168-4da6-c47a-f1779414703b"
      },
      "source": [
        "#trazendo os nomes do cursos\n",
        "nome_curso = cursos.loc[id_curso]\n",
        "nome_curso"
      ],
      "execution_count": 86,
      "outputs": [
        {
          "output_type": "execute_result",
          "data": {
            "text/plain": [
              "nome_do_curso    Estatística básica\n",
              "Name: 16, dtype: object"
            ]
          },
          "metadata": {
            "tags": []
          },
          "execution_count": 86
        }
      ]
    },
    {
      "cell_type": "code",
      "metadata": {
        "id": "gJhIrOHB65Z7",
        "colab_type": "code",
        "colab": {
          "base_uri": "https://localhost:8080/",
          "height": 35
        },
        "outputId": "8a80fbf4-cd84-48d2-9d9d-39a764ce6b8d"
      },
      "source": [
        "#trazendo só o nome do curso\n",
        "nome_curso = nome_curso.nome_do_curso\n",
        "nome_curso"
      ],
      "execution_count": 87,
      "outputs": [
        {
          "output_type": "execute_result",
          "data": {
            "application/vnd.google.colaboratory.intrinsic+json": {
              "type": "string"
            },
            "text/plain": [
              "'Estatística básica'"
            ]
          },
          "metadata": {
            "tags": []
          },
          "execution_count": 87
        }
      ]
    },
    {
      "cell_type": "code",
      "metadata": {
        "id": "GENZOC5X7Vbs",
        "colab_type": "code",
        "colab": {}
      },
      "source": [
        "#proxima turma\n",
        "proxima_turma = proxima_turma.set_index('id_aluno').join(nomes.set_index('id_aluno'))['nome'].to_frame()"
      ],
      "execution_count": 88,
      "outputs": []
    },
    {
      "cell_type": "code",
      "metadata": {
        "id": "O73nXjzF7lBb",
        "colab_type": "code",
        "colab": {
          "base_uri": "https://localhost:8080/",
          "height": 576
        },
        "outputId": "03667d92-2eea-44e7-d07a-ef8118c44346"
      },
      "source": [
        "proxima_turma"
      ],
      "execution_count": 89,
      "outputs": [
        {
          "output_type": "execute_result",
          "data": {
            "text/html": [
              "<div>\n",
              "<style scoped>\n",
              "    .dataframe tbody tr th:only-of-type {\n",
              "        vertical-align: middle;\n",
              "    }\n",
              "\n",
              "    .dataframe tbody tr th {\n",
              "        vertical-align: top;\n",
              "    }\n",
              "\n",
              "    .dataframe thead th {\n",
              "        text-align: right;\n",
              "    }\n",
              "</style>\n",
              "<table border=\"1\" class=\"dataframe\">\n",
              "  <thead>\n",
              "    <tr style=\"text-align: right;\">\n",
              "      <th></th>\n",
              "      <th>nome</th>\n",
              "    </tr>\n",
              "    <tr>\n",
              "      <th>id_aluno</th>\n",
              "      <th></th>\n",
              "    </tr>\n",
              "  </thead>\n",
              "  <tbody>\n",
              "    <tr>\n",
              "      <th>147</th>\n",
              "      <td>VINICIOS</td>\n",
              "    </tr>\n",
              "    <tr>\n",
              "      <th>151</th>\n",
              "      <td>TEREZA</td>\n",
              "    </tr>\n",
              "    <tr>\n",
              "      <th>179</th>\n",
              "      <td>TAIS</td>\n",
              "    </tr>\n",
              "    <tr>\n",
              "      <th>179</th>\n",
              "      <td>TAIS</td>\n",
              "    </tr>\n",
              "    <tr>\n",
              "      <th>184</th>\n",
              "      <td>JUNIOR</td>\n",
              "    </tr>\n",
              "    <tr>\n",
              "      <th>202</th>\n",
              "      <td>ESTER</td>\n",
              "    </tr>\n",
              "    <tr>\n",
              "      <th>206</th>\n",
              "      <td>ITALO</td>\n",
              "    </tr>\n",
              "    <tr>\n",
              "      <th>214</th>\n",
              "      <td>JAIME</td>\n",
              "    </tr>\n",
              "    <tr>\n",
              "      <th>259</th>\n",
              "      <td>RAIMUNDA</td>\n",
              "    </tr>\n",
              "    <tr>\n",
              "      <th>319</th>\n",
              "      <td>INES</td>\n",
              "    </tr>\n",
              "    <tr>\n",
              "      <th>359</th>\n",
              "      <td>ARNALDO</td>\n",
              "    </tr>\n",
              "    <tr>\n",
              "      <th>362</th>\n",
              "      <td>NIVALDO</td>\n",
              "    </tr>\n",
              "    <tr>\n",
              "      <th>368</th>\n",
              "      <td>CLEIDE</td>\n",
              "    </tr>\n",
              "    <tr>\n",
              "      <th>378</th>\n",
              "      <td>HUGO</td>\n",
              "    </tr>\n",
              "    <tr>\n",
              "      <th>389</th>\n",
              "      <td>LIDIANE</td>\n",
              "    </tr>\n",
              "    <tr>\n",
              "      <th>398</th>\n",
              "      <td>CRISTIAN</td>\n",
              "    </tr>\n",
              "  </tbody>\n",
              "</table>\n",
              "</div>"
            ],
            "text/plain": [
              "              nome\n",
              "id_aluno          \n",
              "147       VINICIOS\n",
              "151         TEREZA\n",
              "179           TAIS\n",
              "179           TAIS\n",
              "184         JUNIOR\n",
              "202          ESTER\n",
              "206          ITALO\n",
              "214          JAIME\n",
              "259       RAIMUNDA\n",
              "319           INES\n",
              "359        ARNALDO\n",
              "362        NIVALDO\n",
              "368         CLEIDE\n",
              "378           HUGO\n",
              "389        LIDIANE\n",
              "398       CRISTIAN"
            ]
          },
          "metadata": {
            "tags": []
          },
          "execution_count": 89
        }
      ]
    },
    {
      "cell_type": "code",
      "metadata": {
        "id": "hpUk2zMe7nS7",
        "colab_type": "code",
        "colab": {}
      },
      "source": [
        "#finalizando o processo\n",
        "proxima_turma = proxima_turma.rename(columns= {'nome' : 'Alunos Matriculados de {}'.format(nome_curso.title())})"
      ],
      "execution_count": 93,
      "outputs": []
    },
    {
      "cell_type": "code",
      "metadata": {
        "id": "0G4947eo8LzL",
        "colab_type": "code",
        "colab": {
          "base_uri": "https://localhost:8080/",
          "height": 576
        },
        "outputId": "16c45b0c-98f0-4977-8415-a49485ebf7d1"
      },
      "source": [
        "proxima_turma"
      ],
      "execution_count": 94,
      "outputs": [
        {
          "output_type": "execute_result",
          "data": {
            "text/html": [
              "<div>\n",
              "<style scoped>\n",
              "    .dataframe tbody tr th:only-of-type {\n",
              "        vertical-align: middle;\n",
              "    }\n",
              "\n",
              "    .dataframe tbody tr th {\n",
              "        vertical-align: top;\n",
              "    }\n",
              "\n",
              "    .dataframe thead th {\n",
              "        text-align: right;\n",
              "    }\n",
              "</style>\n",
              "<table border=\"1\" class=\"dataframe\">\n",
              "  <thead>\n",
              "    <tr style=\"text-align: right;\">\n",
              "      <th></th>\n",
              "      <th>Alunos Matriculados de Estatística Básica</th>\n",
              "    </tr>\n",
              "    <tr>\n",
              "      <th>id_aluno</th>\n",
              "      <th></th>\n",
              "    </tr>\n",
              "  </thead>\n",
              "  <tbody>\n",
              "    <tr>\n",
              "      <th>147</th>\n",
              "      <td>VINICIOS</td>\n",
              "    </tr>\n",
              "    <tr>\n",
              "      <th>151</th>\n",
              "      <td>TEREZA</td>\n",
              "    </tr>\n",
              "    <tr>\n",
              "      <th>179</th>\n",
              "      <td>TAIS</td>\n",
              "    </tr>\n",
              "    <tr>\n",
              "      <th>179</th>\n",
              "      <td>TAIS</td>\n",
              "    </tr>\n",
              "    <tr>\n",
              "      <th>184</th>\n",
              "      <td>JUNIOR</td>\n",
              "    </tr>\n",
              "    <tr>\n",
              "      <th>202</th>\n",
              "      <td>ESTER</td>\n",
              "    </tr>\n",
              "    <tr>\n",
              "      <th>206</th>\n",
              "      <td>ITALO</td>\n",
              "    </tr>\n",
              "    <tr>\n",
              "      <th>214</th>\n",
              "      <td>JAIME</td>\n",
              "    </tr>\n",
              "    <tr>\n",
              "      <th>259</th>\n",
              "      <td>RAIMUNDA</td>\n",
              "    </tr>\n",
              "    <tr>\n",
              "      <th>319</th>\n",
              "      <td>INES</td>\n",
              "    </tr>\n",
              "    <tr>\n",
              "      <th>359</th>\n",
              "      <td>ARNALDO</td>\n",
              "    </tr>\n",
              "    <tr>\n",
              "      <th>362</th>\n",
              "      <td>NIVALDO</td>\n",
              "    </tr>\n",
              "    <tr>\n",
              "      <th>368</th>\n",
              "      <td>CLEIDE</td>\n",
              "    </tr>\n",
              "    <tr>\n",
              "      <th>378</th>\n",
              "      <td>HUGO</td>\n",
              "    </tr>\n",
              "    <tr>\n",
              "      <th>389</th>\n",
              "      <td>LIDIANE</td>\n",
              "    </tr>\n",
              "    <tr>\n",
              "      <th>398</th>\n",
              "      <td>CRISTIAN</td>\n",
              "    </tr>\n",
              "  </tbody>\n",
              "</table>\n",
              "</div>"
            ],
            "text/plain": [
              "         Alunos Matriculados de Estatística Básica\n",
              "id_aluno                                          \n",
              "147                                       VINICIOS\n",
              "151                                         TEREZA\n",
              "179                                           TAIS\n",
              "179                                           TAIS\n",
              "184                                         JUNIOR\n",
              "202                                          ESTER\n",
              "206                                          ITALO\n",
              "214                                          JAIME\n",
              "259                                       RAIMUNDA\n",
              "319                                           INES\n",
              "359                                        ARNALDO\n",
              "362                                        NIVALDO\n",
              "368                                         CLEIDE\n",
              "378                                           HUGO\n",
              "389                                        LIDIANE\n",
              "398                                       CRISTIAN"
            ]
          },
          "metadata": {
            "tags": []
          },
          "execution_count": 94
        }
      ]
    },
    {
      "cell_type": "markdown",
      "metadata": {
        "id": "-lqlt7QF9EZE",
        "colab_type": "text"
      },
      "source": [
        "# Trabalhando com Excel"
      ]
    },
    {
      "cell_type": "code",
      "metadata": {
        "id": "GwGOespm8tDB",
        "colab_type": "code",
        "colab": {}
      },
      "source": [
        "#convertando o df em excel\n",
        "proxima_turma.to_excel('proxima_turma.xlsx', index=False)"
      ],
      "execution_count": 95,
      "outputs": []
    },
    {
      "cell_type": "code",
      "metadata": {
        "id": "V70AoWZ99pIh",
        "colab_type": "code",
        "colab": {
          "base_uri": "https://localhost:8080/",
          "height": 545
        },
        "outputId": "a5f87cc1-dc03-4ac7-b088-cb755662cab0"
      },
      "source": [
        "#lendo o arquivo do excel\n",
        "pd.read_excel('proxima_turma.xlsx')"
      ],
      "execution_count": 96,
      "outputs": [
        {
          "output_type": "execute_result",
          "data": {
            "text/html": [
              "<div>\n",
              "<style scoped>\n",
              "    .dataframe tbody tr th:only-of-type {\n",
              "        vertical-align: middle;\n",
              "    }\n",
              "\n",
              "    .dataframe tbody tr th {\n",
              "        vertical-align: top;\n",
              "    }\n",
              "\n",
              "    .dataframe thead th {\n",
              "        text-align: right;\n",
              "    }\n",
              "</style>\n",
              "<table border=\"1\" class=\"dataframe\">\n",
              "  <thead>\n",
              "    <tr style=\"text-align: right;\">\n",
              "      <th></th>\n",
              "      <th>Alunos Matriculados de Estatística Básica</th>\n",
              "    </tr>\n",
              "  </thead>\n",
              "  <tbody>\n",
              "    <tr>\n",
              "      <th>0</th>\n",
              "      <td>VINICIOS</td>\n",
              "    </tr>\n",
              "    <tr>\n",
              "      <th>1</th>\n",
              "      <td>TEREZA</td>\n",
              "    </tr>\n",
              "    <tr>\n",
              "      <th>2</th>\n",
              "      <td>TAIS</td>\n",
              "    </tr>\n",
              "    <tr>\n",
              "      <th>3</th>\n",
              "      <td>TAIS</td>\n",
              "    </tr>\n",
              "    <tr>\n",
              "      <th>4</th>\n",
              "      <td>JUNIOR</td>\n",
              "    </tr>\n",
              "    <tr>\n",
              "      <th>5</th>\n",
              "      <td>ESTER</td>\n",
              "    </tr>\n",
              "    <tr>\n",
              "      <th>6</th>\n",
              "      <td>ITALO</td>\n",
              "    </tr>\n",
              "    <tr>\n",
              "      <th>7</th>\n",
              "      <td>JAIME</td>\n",
              "    </tr>\n",
              "    <tr>\n",
              "      <th>8</th>\n",
              "      <td>RAIMUNDA</td>\n",
              "    </tr>\n",
              "    <tr>\n",
              "      <th>9</th>\n",
              "      <td>INES</td>\n",
              "    </tr>\n",
              "    <tr>\n",
              "      <th>10</th>\n",
              "      <td>ARNALDO</td>\n",
              "    </tr>\n",
              "    <tr>\n",
              "      <th>11</th>\n",
              "      <td>NIVALDO</td>\n",
              "    </tr>\n",
              "    <tr>\n",
              "      <th>12</th>\n",
              "      <td>CLEIDE</td>\n",
              "    </tr>\n",
              "    <tr>\n",
              "      <th>13</th>\n",
              "      <td>HUGO</td>\n",
              "    </tr>\n",
              "    <tr>\n",
              "      <th>14</th>\n",
              "      <td>LIDIANE</td>\n",
              "    </tr>\n",
              "    <tr>\n",
              "      <th>15</th>\n",
              "      <td>CRISTIAN</td>\n",
              "    </tr>\n",
              "  </tbody>\n",
              "</table>\n",
              "</div>"
            ],
            "text/plain": [
              "   Alunos Matriculados de Estatística Básica\n",
              "0                                   VINICIOS\n",
              "1                                     TEREZA\n",
              "2                                       TAIS\n",
              "3                                       TAIS\n",
              "4                                     JUNIOR\n",
              "5                                      ESTER\n",
              "6                                      ITALO\n",
              "7                                      JAIME\n",
              "8                                   RAIMUNDA\n",
              "9                                       INES\n",
              "10                                   ARNALDO\n",
              "11                                   NIVALDO\n",
              "12                                    CLEIDE\n",
              "13                                      HUGO\n",
              "14                                   LIDIANE\n",
              "15                                  CRISTIAN"
            ]
          },
          "metadata": {
            "tags": []
          },
          "execution_count": 96
        }
      ]
    },
    {
      "cell_type": "code",
      "metadata": {
        "id": "DTAh3H6CAjiU",
        "colab_type": "code",
        "colab": {}
      },
      "source": [
        ""
      ],
      "execution_count": null,
      "outputs": []
    }
  ]
}